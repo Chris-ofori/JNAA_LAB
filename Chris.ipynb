{
 "cells": [
  {
   "cell_type": "markdown",
   "id": "2cfdff71",
   "metadata": {},
   "source": [
    "DAY 1"
   ]
  },
  {
   "cell_type": "markdown",
   "id": "6f8f5989",
   "metadata": {},
   "source": [
    "# COMMENTS AND HEADINGS\n",
    "VFBGDBNB THNFHG"
   ]
  },
  {
   "cell_type": "code",
   "execution_count": 3,
   "id": "24f2835c",
   "metadata": {},
   "outputs": [
    {
     "name": "stdout",
     "output_type": "stream",
     "text": [
      "Daniel\n"
     ]
    }
   ],
   "source": [
    "print('Daniel')"
   ]
  },
  {
   "cell_type": "code",
   "execution_count": 4,
   "id": "f5109274",
   "metadata": {},
   "outputs": [
    {
     "name": "stdout",
     "output_type": "stream",
     "text": [
      "Daniel\n"
     ]
    }
   ],
   "source": [
    "print('Daniel')"
   ]
  },
  {
   "cell_type": "code",
   "execution_count": 5,
   "id": "9f32c763",
   "metadata": {},
   "outputs": [
    {
     "name": "stdout",
     "output_type": "stream",
     "text": [
      "rice\n"
     ]
    }
   ],
   "source": [
    "print ('rice')"
   ]
  },
  {
   "cell_type": "code",
   "execution_count": 9,
   "id": "8d7ad477",
   "metadata": {},
   "outputs": [],
   "source": [
    "# hfjkfj"
   ]
  },
  {
   "cell_type": "code",
   "execution_count": 7,
   "id": "303ffa8b",
   "metadata": {},
   "outputs": [
    {
     "data": {
      "text/plain": [
       "'print daniel'"
      ]
     },
     "execution_count": 7,
     "metadata": {},
     "output_type": "execute_result"
    }
   ],
   "source": [
    "'''print daniel'''"
   ]
  },
  {
   "cell_type": "code",
   "execution_count": null,
   "id": "3e6fc8f5",
   "metadata": {},
   "outputs": [],
   "source": [
    "hdjfis"
   ]
  },
  {
   "cell_type": "markdown",
   "id": "e219cf1b",
   "metadata": {},
   "source": [
    "# DATA TYPES"
   ]
  },
  {
   "cell_type": "code",
   "execution_count": 12,
   "id": "6c4f324d",
   "metadata": {},
   "outputs": [
    {
     "data": {
      "text/plain": [
       "10"
      ]
     },
     "execution_count": 12,
     "metadata": {},
     "output_type": "execute_result"
    }
   ],
   "source": [
    "10"
   ]
  },
  {
   "cell_type": "code",
   "execution_count": 13,
   "id": "93506758",
   "metadata": {},
   "outputs": [
    {
     "data": {
      "text/plain": [
       "int"
      ]
     },
     "execution_count": 13,
     "metadata": {},
     "output_type": "execute_result"
    }
   ],
   "source": [
    "type(10)"
   ]
  },
  {
   "cell_type": "code",
   "execution_count": 14,
   "id": "1be35cff",
   "metadata": {},
   "outputs": [
    {
     "data": {
      "text/plain": [
       "float"
      ]
     },
     "execution_count": 14,
     "metadata": {},
     "output_type": "execute_result"
    }
   ],
   "source": [
    "type(15.72)"
   ]
  },
  {
   "cell_type": "code",
   "execution_count": 16,
   "id": "b730273f",
   "metadata": {},
   "outputs": [
    {
     "data": {
      "text/plain": [
       "str"
      ]
     },
     "execution_count": 16,
     "metadata": {},
     "output_type": "execute_result"
    }
   ],
   "source": [
    "type('rain')"
   ]
  },
  {
   "cell_type": "code",
   "execution_count": 18,
   "id": "39a4cbc6",
   "metadata": {},
   "outputs": [
    {
     "data": {
      "text/plain": [
       "list"
      ]
     },
     "execution_count": 18,
     "metadata": {},
     "output_type": "execute_result"
    }
   ],
   "source": [
    "type([12,34,56])"
   ]
  },
  {
   "cell_type": "code",
   "execution_count": 21,
   "id": "7c1581b0",
   "metadata": {},
   "outputs": [
    {
     "data": {
      "text/plain": [
       "list"
      ]
     },
     "execution_count": 21,
     "metadata": {},
     "output_type": "execute_result"
    }
   ],
   "source": [
    "type([2,3,5])"
   ]
  },
  {
   "cell_type": "code",
   "execution_count": 22,
   "id": "d669b5f6",
   "metadata": {},
   "outputs": [
    {
     "data": {
      "text/plain": [
       "type[2, 3, 4, 5, 6]"
      ]
     },
     "execution_count": 22,
     "metadata": {},
     "output_type": "execute_result"
    }
   ],
   "source": [
    "type[2,3,4,5,6]"
   ]
  },
  {
   "cell_type": "code",
   "execution_count": 24,
   "id": "6630f082",
   "metadata": {},
   "outputs": [
    {
     "data": {
      "text/plain": [
       "set"
      ]
     },
     "execution_count": 24,
     "metadata": {},
     "output_type": "execute_result"
    }
   ],
   "source": [
    "type({3,4,6,9})"
   ]
  },
  {
   "cell_type": "code",
   "execution_count": 25,
   "id": "c9066440",
   "metadata": {},
   "outputs": [
    {
     "data": {
      "text/plain": [
       "tuple"
      ]
     },
     "execution_count": 25,
     "metadata": {},
     "output_type": "execute_result"
    }
   ],
   "source": [
    "type((3,7,8,0))"
   ]
  },
  {
   "cell_type": "markdown",
   "id": "aeec9fae",
   "metadata": {},
   "source": [
    "# Variable Assignment"
   ]
  },
  {
   "cell_type": "code",
   "execution_count": 31,
   "id": "7e46121d",
   "metadata": {},
   "outputs": [],
   "source": [
    "s=6"
   ]
  },
  {
   "cell_type": "code",
   "execution_count": 32,
   "id": "bf521d24",
   "metadata": {},
   "outputs": [],
   "source": [
    "d=5"
   ]
  },
  {
   "cell_type": "code",
   "execution_count": 34,
   "id": "1a665c20",
   "metadata": {},
   "outputs": [],
   "source": [
    "zz= d+s"
   ]
  },
  {
   "cell_type": "code",
   "execution_count": 35,
   "id": "3d85b75f",
   "metadata": {},
   "outputs": [
    {
     "data": {
      "text/plain": [
       "11"
      ]
     },
     "execution_count": 35,
     "metadata": {},
     "output_type": "execute_result"
    }
   ],
   "source": [
    "zz"
   ]
  },
  {
   "cell_type": "code",
   "execution_count": 37,
   "id": "67dc6d44",
   "metadata": {},
   "outputs": [],
   "source": [
    "g=7"
   ]
  },
  {
   "cell_type": "code",
   "execution_count": 38,
   "id": "8a2afea2",
   "metadata": {},
   "outputs": [],
   "source": [
    "r=9898"
   ]
  },
  {
   "cell_type": "code",
   "execution_count": 39,
   "id": "cb249495",
   "metadata": {},
   "outputs": [],
   "source": [
    "bk=r-g"
   ]
  },
  {
   "cell_type": "code",
   "execution_count": 40,
   "id": "15b9ae77",
   "metadata": {},
   "outputs": [
    {
     "data": {
      "text/plain": [
       "9891"
      ]
     },
     "execution_count": 40,
     "metadata": {},
     "output_type": "execute_result"
    }
   ],
   "source": [
    "bk"
   ]
  },
  {
   "cell_type": "code",
   "execution_count": 41,
   "id": "fe8e2d50",
   "metadata": {},
   "outputs": [],
   "source": [
    "w=70"
   ]
  },
  {
   "cell_type": "code",
   "execution_count": 42,
   "id": "96f780d2",
   "metadata": {},
   "outputs": [],
   "source": [
    "v=30"
   ]
  },
  {
   "cell_type": "code",
   "execution_count": 45,
   "id": "76985c27",
   "metadata": {},
   "outputs": [],
   "source": [
    "m=(w/v)*100"
   ]
  },
  {
   "cell_type": "code",
   "execution_count": 46,
   "id": "420179e6",
   "metadata": {},
   "outputs": [
    {
     "data": {
      "text/plain": [
       "233.33333333333334"
      ]
     },
     "execution_count": 46,
     "metadata": {},
     "output_type": "execute_result"
    }
   ],
   "source": [
    "m"
   ]
  },
  {
   "cell_type": "code",
   "execution_count": 47,
   "id": "c0738ec3",
   "metadata": {},
   "outputs": [],
   "source": [
    "l=(v*w)+(v/w)"
   ]
  },
  {
   "cell_type": "code",
   "execution_count": 48,
   "id": "91f22d78",
   "metadata": {},
   "outputs": [
    {
     "data": {
      "text/plain": [
       "2100.4285714285716"
      ]
     },
     "execution_count": 48,
     "metadata": {},
     "output_type": "execute_result"
    }
   ],
   "source": [
    "l"
   ]
  },
  {
   "cell_type": "code",
   "execution_count": 49,
   "id": "0ef3efc0",
   "metadata": {},
   "outputs": [
    {
     "data": {
      "text/plain": [
       "'g'"
      ]
     },
     "execution_count": 49,
     "metadata": {},
     "output_type": "execute_result"
    }
   ],
   "source": [
    "\"g\""
   ]
  },
  {
   "cell_type": "code",
   "execution_count": 55,
   "id": "beae3b1c",
   "metadata": {},
   "outputs": [],
   "source": [
    "a=5\n",
    "b=10"
   ]
  },
  {
   "cell_type": "code",
   "execution_count": 57,
   "id": "1bdd3bb9",
   "metadata": {},
   "outputs": [],
   "source": [
    "c=a+b"
   ]
  },
  {
   "cell_type": "code",
   "execution_count": 52,
   "id": "b830c43b",
   "metadata": {},
   "outputs": [
    {
     "data": {
      "text/plain": [
       "15"
      ]
     },
     "execution_count": 52,
     "metadata": {},
     "output_type": "execute_result"
    }
   ],
   "source": [
    "c"
   ]
  },
  {
   "cell_type": "code",
   "execution_count": 59,
   "id": "a174b087",
   "metadata": {},
   "outputs": [],
   "source": [
    "a=6\n",
    "b=13\n",
    "\n",
    "c=b+a"
   ]
  },
  {
   "cell_type": "code",
   "execution_count": 60,
   "id": "fb08fd55",
   "metadata": {},
   "outputs": [
    {
     "data": {
      "text/plain": [
       "19"
      ]
     },
     "execution_count": 60,
     "metadata": {},
     "output_type": "execute_result"
    }
   ],
   "source": [
    "c"
   ]
  },
  {
   "cell_type": "markdown",
   "id": "b3c16614",
   "metadata": {},
   "source": [
    "# Print "
   ]
  },
  {
   "cell_type": "code",
   "execution_count": 62,
   "id": "e437062f",
   "metadata": {},
   "outputs": [
    {
     "name": "stdout",
     "output_type": "stream",
     "text": [
      "19\n"
     ]
    }
   ],
   "source": [
    "print (c)"
   ]
  },
  {
   "cell_type": "code",
   "execution_count": 65,
   "id": "e2dc47cc",
   "metadata": {},
   "outputs": [
    {
     "name": "stdout",
     "output_type": "stream",
     "text": [
      "my name is chris\n",
      "Met student\n"
     ]
    }
   ],
   "source": [
    "print('my name is chris\\nMet student')"
   ]
  },
  {
   "cell_type": "code",
   "execution_count": 69,
   "id": "bf3387e1",
   "metadata": {},
   "outputs": [
    {
     "name": "stdout",
     "output_type": "stream",
     "text": [
      "question 1 is A\n",
      "question 2 is D\n",
      "question 3 is E\n"
     ]
    }
   ],
   "source": [
    "print('question 1 is A\\nquestion 2 is D\\nquestion 3 is E')"
   ]
  },
  {
   "cell_type": "code",
   "execution_count": 70,
   "id": "d4753d3c",
   "metadata": {},
   "outputs": [
    {
     "name": "stdout",
     "output_type": "stream",
     "text": [
      "\n"
     ]
    }
   ],
   "source": [
    "print('')"
   ]
  },
  {
   "cell_type": "code",
   "execution_count": 71,
   "id": "243482d8",
   "metadata": {},
   "outputs": [
    {
     "name": "stdout",
     "output_type": "stream",
     "text": [
      "my name is Chris\n",
      "I stay at Bomso\n"
     ]
    }
   ],
   "source": [
    "print('my name is Chris\\nI stay at Bomso')"
   ]
  },
  {
   "cell_type": "code",
   "execution_count": 72,
   "id": "8cca05d5",
   "metadata": {},
   "outputs": [
    {
     "name": "stdout",
     "output_type": "stream",
     "text": [
      "my name is Berthold\n",
      "I stay at Lagos Town\n"
     ]
    }
   ],
   "source": [
    "print('my name is Berthold\\nI stay at Lagos Town')"
   ]
  },
  {
   "cell_type": "code",
   "execution_count": 74,
   "id": "96b75259",
   "metadata": {},
   "outputs": [
    {
     "name": "stdout",
     "output_type": "stream",
     "text": [
      "29.833333333333332\n"
     ]
    }
   ],
   "source": [
    "print(a+b*zz/a)"
   ]
  },
  {
   "cell_type": "code",
   "execution_count": 77,
   "id": "8d233070",
   "metadata": {},
   "outputs": [],
   "source": [
    "course='METEOROLOGY AND CLIMATE SCIENCE'\n"
   ]
  },
  {
   "cell_type": "code",
   "execution_count": 78,
   "id": "a6c67c5c",
   "metadata": {},
   "outputs": [
    {
     "data": {
      "text/plain": [
       "31"
      ]
     },
     "execution_count": 78,
     "metadata": {},
     "output_type": "execute_result"
    }
   ],
   "source": [
    "len(course)"
   ]
  },
  {
   "cell_type": "code",
   "execution_count": 79,
   "id": "1f386033",
   "metadata": {},
   "outputs": [
    {
     "data": {
      "text/plain": [
       "'M'"
      ]
     },
     "execution_count": 79,
     "metadata": {},
     "output_type": "execute_result"
    }
   ],
   "source": [
    "course[0]"
   ]
  },
  {
   "cell_type": "code",
   "execution_count": 88,
   "id": "6f44697b",
   "metadata": {},
   "outputs": [],
   "source": [
    "# indexing even"
   ]
  },
  {
   "cell_type": "code",
   "execution_count": 80,
   "id": "b355119c",
   "metadata": {},
   "outputs": [
    {
     "data": {
      "text/plain": [
       "'ME'"
      ]
     },
     "execution_count": 80,
     "metadata": {},
     "output_type": "execute_result"
    }
   ],
   "source": [
    "course[0:2]"
   ]
  },
  {
   "cell_type": "code",
   "execution_count": 81,
   "id": "8fc7bac8",
   "metadata": {},
   "outputs": [
    {
     "data": {
      "text/plain": [
       "'MET'"
      ]
     },
     "execution_count": 81,
     "metadata": {},
     "output_type": "execute_result"
    }
   ],
   "source": [
    "course[0:3]"
   ]
  },
  {
   "cell_type": "code",
   "execution_count": 87,
   "id": "d94b8e8e",
   "metadata": {},
   "outputs": [],
   "source": [
    "# indexing odd"
   ]
  },
  {
   "cell_type": "code",
   "execution_count": 82,
   "id": "97c18eb7",
   "metadata": {},
   "outputs": [
    {
     "data": {
      "text/plain": [
       "'MTOOOYADCIAESINE'"
      ]
     },
     "execution_count": 82,
     "metadata": {},
     "output_type": "execute_result"
    }
   ],
   "source": [
    "course[::2]"
   ]
  },
  {
   "cell_type": "code",
   "execution_count": 86,
   "id": "40f1faf6",
   "metadata": {},
   "outputs": [
    {
     "data": {
      "text/plain": [
       "'OOOYADCIAESINE'"
      ]
     },
     "execution_count": 86,
     "metadata": {},
     "output_type": "execute_result"
    }
   ],
   "source": [
    "course[4::2]"
   ]
  },
  {
   "cell_type": "markdown",
   "id": "183a2e55",
   "metadata": {},
   "source": [
    "# concatenation"
   ]
  },
  {
   "cell_type": "code",
   "execution_count": 89,
   "id": "8906816d",
   "metadata": {},
   "outputs": [],
   "source": [
    "# Joining words, letters,numbers together"
   ]
  },
  {
   "cell_type": "code",
   "execution_count": 93,
   "id": "1071e92d",
   "metadata": {},
   "outputs": [],
   "source": [
    "a='Meteorology '\n",
    "b='and '\n",
    "c='Climate '\n",
    "d='Science'"
   ]
  },
  {
   "cell_type": "code",
   "execution_count": 94,
   "id": "1050c037",
   "metadata": {},
   "outputs": [
    {
     "name": "stdout",
     "output_type": "stream",
     "text": [
      "Meteorology and Climate Science\n"
     ]
    }
   ],
   "source": [
    "print(a+b+c+d)"
   ]
  },
  {
   "cell_type": "code",
   "execution_count": 96,
   "id": "0fa12396",
   "metadata": {},
   "outputs": [
    {
     "name": "stdout",
     "output_type": "stream",
     "text": [
      "Meteorology  and  Climate  Science\n"
     ]
    }
   ],
   "source": [
    "print(a,b,c,d)"
   ]
  },
  {
   "cell_type": "code",
   "execution_count": 100,
   "id": "4782eb50",
   "metadata": {},
   "outputs": [
    {
     "name": "stdout",
     "output_type": "stream",
     "text": [
      "Vote Rhoda 2023\n",
      "Vote Rhoda 2023\n",
      "Vote Rhoda 2023\n",
      "Vote Rhoda 2023\n",
      "Vote Rhoda 2023\n",
      "Vote Rhoda 2023\n",
      "Vote Rhoda 2023\n",
      "Vote Rhoda 2023\n",
      "Vote Rhoda 2023\n",
      "Vote Rhoda 2023\n",
      "Vote Rhoda 2023\n",
      "Vote Rhoda 2023\n",
      "Vote Rhoda 2023\n",
      "Vote Rhoda 2023\n",
      "Vote Rhoda 2023\n",
      "Vote Rhoda 2023\n",
      "Vote Rhoda 2023\n",
      "Vote Rhoda 2023\n",
      "Vote Rhoda 2023\n",
      "Vote Rhoda 2023\n",
      "\n"
     ]
    }
   ],
   "source": [
    "print('Vote Rhoda 2023\\n'*20)"
   ]
  },
  {
   "cell_type": "code",
   "execution_count": 102,
   "id": "3b0da23d",
   "metadata": {},
   "outputs": [
    {
     "name": "stdout",
     "output_type": "stream",
     "text": [
      "vote for RHODA 2023\n",
      "vote for RHODA 2023\n",
      "vote for RHODA 2023\n",
      "vote for RHODA 2023\n",
      "vote for RHODA 2023\n",
      "vote for RHODA 2023\n",
      "vote for RHODA 2023\n",
      "vote for RHODA 2023\n",
      "vote for RHODA 2023\n",
      "vote for RHODA 2023\n",
      "\n"
     ]
    }
   ],
   "source": [
    "print('vote for RHODA 2023\\n'*10)"
   ]
  },
  {
   "cell_type": "markdown",
   "id": "3338b55b",
   "metadata": {},
   "source": [
    "# formatting strings"
   ]
  },
  {
   "cell_type": "code",
   "execution_count": 103,
   "id": "107b835b",
   "metadata": {},
   "outputs": [],
   "source": [
    "a='FELLOW GHANAIANS, THE DOLLAR IS 12 CEDIS' "
   ]
  },
  {
   "cell_type": "code",
   "execution_count": 112,
   "id": "8904d46e",
   "metadata": {},
   "outputs": [],
   "source": [
    "b=a.lower()"
   ]
  },
  {
   "cell_type": "code",
   "execution_count": 114,
   "id": "20c04b39",
   "metadata": {},
   "outputs": [
    {
     "data": {
      "text/plain": [
       "'fellow ghanaians, the dollar is 12 cedis'"
      ]
     },
     "execution_count": 114,
     "metadata": {},
     "output_type": "execute_result"
    }
   ],
   "source": [
    "b"
   ]
  },
  {
   "cell_type": "code",
   "execution_count": 115,
   "id": "dc3168a0",
   "metadata": {},
   "outputs": [],
   "source": [
    "c=b.upper()"
   ]
  },
  {
   "cell_type": "code",
   "execution_count": 116,
   "id": "f54c2de6",
   "metadata": {},
   "outputs": [
    {
     "data": {
      "text/plain": [
       "'FELLOW GHANAIANS, THE DOLLAR IS 12 CEDIS'"
      ]
     },
     "execution_count": 116,
     "metadata": {},
     "output_type": "execute_result"
    }
   ],
   "source": [
    "c"
   ]
  },
  {
   "cell_type": "code",
   "execution_count": 118,
   "id": "87b16fb8",
   "metadata": {},
   "outputs": [
    {
     "data": {
      "text/plain": [
       "'Fellow ghanaians, the dollar is 12 cedis'"
      ]
     },
     "execution_count": 118,
     "metadata": {},
     "output_type": "execute_result"
    }
   ],
   "source": [
    "b.capitalize()"
   ]
  },
  {
   "cell_type": "code",
   "execution_count": 121,
   "id": "3af56e35",
   "metadata": {},
   "outputs": [
    {
     "data": {
      "text/plain": [
       "'Fellow ghanaians, the dollar is 12 cedis'"
      ]
     },
     "execution_count": 121,
     "metadata": {},
     "output_type": "execute_result"
    }
   ],
   "source": [
    "c.capitalize()"
   ]
  },
  {
   "cell_type": "code",
   "execution_count": 122,
   "id": "49a9d1e9",
   "metadata": {},
   "outputs": [
    {
     "data": {
      "text/plain": [
       "['FELLOW', 'GHANAIANS,', 'THE', 'DOLLAR', 'IS', '12', 'CEDIS']"
      ]
     },
     "execution_count": 122,
     "metadata": {},
     "output_type": "execute_result"
    }
   ],
   "source": [
    "c.split()"
   ]
  },
  {
   "cell_type": "code",
   "execution_count": 123,
   "id": "9faffccb",
   "metadata": {},
   "outputs": [
    {
     "data": {
      "text/plain": [
       "['fellow', 'ghanaians,', 'the', 'dollar', 'is', '12', 'cedis']"
      ]
     },
     "execution_count": 123,
     "metadata": {},
     "output_type": "execute_result"
    }
   ],
   "source": [
    "b.split()"
   ]
  },
  {
   "cell_type": "code",
   "execution_count": 124,
   "id": "df04ce59",
   "metadata": {},
   "outputs": [
    {
     "data": {
      "text/plain": [
       "'fellow ghanaians, the euro is 12 cedis'"
      ]
     },
     "execution_count": 124,
     "metadata": {},
     "output_type": "execute_result"
    }
   ],
   "source": [
    "b.replace('dollar','euro')"
   ]
  },
  {
   "cell_type": "code",
   "execution_count": 125,
   "id": "e0230a9e",
   "metadata": {},
   "outputs": [
    {
     "data": {
      "text/plain": [
       "'FELLOW CANADIANS, THE DOLLAR IS 12 CEDIS'"
      ]
     },
     "execution_count": 125,
     "metadata": {},
     "output_type": "execute_result"
    }
   ],
   "source": [
    "c.replace('GHANAIANS','CANADIANS')"
   ]
  },
  {
   "cell_type": "code",
   "execution_count": 129,
   "id": "c0acc9c0",
   "metadata": {},
   "outputs": [
    {
     "data": {
      "text/plain": [
       "'fellow kumericans, the euro is 12 cedis'"
      ]
     },
     "execution_count": 129,
     "metadata": {},
     "output_type": "execute_result"
    }
   ],
   "source": [
    "d=b.replace('ghanaians','kumericans')\n",
    "d.replace('dollar','euro')"
   ]
  },
  {
   "cell_type": "code",
   "execution_count": 134,
   "id": "c1f598e1",
   "metadata": {},
   "outputs": [],
   "source": [
    "first='welcome to the {year} {prog} organized by {organizers}'.format(year=2022, organizers = 'OneQuantum Ghana', prog = 'Christian')"
   ]
  },
  {
   "cell_type": "code",
   "execution_count": 137,
   "id": "6dbc552a",
   "metadata": {},
   "outputs": [],
   "source": [
    "third='welcome to the {} {prog} organized by {organizers}'.format(2023, organizers = 'OneQuantum Ghana', prog = 'Christian')"
   ]
  },
  {
   "cell_type": "code",
   "execution_count": 138,
   "id": "35af5b39",
   "metadata": {},
   "outputs": [
    {
     "data": {
      "text/plain": [
       "'welcome to the 2023 Christian organized by OneQuantum Ghana'"
      ]
     },
     "execution_count": 138,
     "metadata": {},
     "output_type": "execute_result"
    }
   ],
   "source": [
    "third"
   ]
  },
  {
   "cell_type": "code",
   "execution_count": 136,
   "id": "af1ab0bc",
   "metadata": {},
   "outputs": [
    {
     "data": {
      "text/plain": [
       "'welcome to the 2022 Christian organized by OneQuantum Ghana'"
      ]
     },
     "execution_count": 136,
     "metadata": {},
     "output_type": "execute_result"
    }
   ],
   "source": [
    "first"
   ]
  },
  {
   "cell_type": "code",
   "execution_count": 139,
   "id": "4e091635",
   "metadata": {},
   "outputs": [],
   "source": [
    "second='my name is {0}, I am {1}cm tall'.format('chris',167)"
   ]
  },
  {
   "cell_type": "code",
   "execution_count": 140,
   "id": "93a328ea",
   "metadata": {},
   "outputs": [
    {
     "data": {
      "text/plain": [
       "'my name is chris, I am 167cm tall'"
      ]
     },
     "execution_count": 140,
     "metadata": {},
     "output_type": "execute_result"
    }
   ],
   "source": [
    "second"
   ]
  },
  {
   "cell_type": "markdown",
   "id": "4ff5fd7e",
   "metadata": {},
   "source": [
    "# basic mathematics"
   ]
  },
  {
   "cell_type": "code",
   "execution_count": null,
   "id": "37e25f0f",
   "metadata": {},
   "outputs": [],
   "source": [
    "#floor division"
   ]
  },
  {
   "cell_type": "code",
   "execution_count": 143,
   "id": "131f9512",
   "metadata": {},
   "outputs": [
    {
     "data": {
      "text/plain": [
       "1"
      ]
     },
     "execution_count": 143,
     "metadata": {},
     "output_type": "execute_result"
    }
   ],
   "source": [
    "7//5"
   ]
  },
  {
   "cell_type": "markdown",
   "id": "099fd84f",
   "metadata": {},
   "source": [
    "# Boolean Data Type"
   ]
  },
  {
   "cell_type": "code",
   "execution_count": 145,
   "id": "bf150bd1",
   "metadata": {},
   "outputs": [
    {
     "data": {
      "text/plain": [
       "False"
      ]
     },
     "execution_count": 145,
     "metadata": {},
     "output_type": "execute_result"
    }
   ],
   "source": [
    "2>75"
   ]
  },
  {
   "cell_type": "code",
   "execution_count": 146,
   "id": "0c30500d",
   "metadata": {},
   "outputs": [
    {
     "data": {
      "text/plain": [
       "False"
      ]
     },
     "execution_count": 146,
     "metadata": {},
     "output_type": "execute_result"
    }
   ],
   "source": [
    "11.2==11.22"
   ]
  },
  {
   "cell_type": "code",
   "execution_count": 147,
   "id": "b723c403",
   "metadata": {},
   "outputs": [
    {
     "data": {
      "text/plain": [
       "bool"
      ]
     },
     "execution_count": 147,
     "metadata": {},
     "output_type": "execute_result"
    }
   ],
   "source": [
    "type(11.2==11.22)"
   ]
  },
  {
   "cell_type": "markdown",
   "id": "f3607154",
   "metadata": {},
   "source": [
    "# Dictionary"
   ]
  },
  {
   "cell_type": "code",
   "execution_count": 151,
   "id": "d9c723a2",
   "metadata": {},
   "outputs": [
    {
     "data": {
      "text/plain": [
       "dict"
      ]
     },
     "execution_count": 151,
     "metadata": {},
     "output_type": "execute_result"
    }
   ],
   "source": [
    "p= {\n",
    "    'Name':'chris',\n",
    "    'telephone': '0501401269',\n",
    "    'Gender': 'prefer not to say'\n",
    "}\n",
    "\n",
    "type(p)\n"
   ]
  },
  {
   "cell_type": "code",
   "execution_count": null,
   "id": "d4815ce1",
   "metadata": {},
   "outputs": [],
   "source": [
    "type"
   ]
  },
  {
   "cell_type": "code",
   "execution_count": 149,
   "id": "a17a5251",
   "metadata": {},
   "outputs": [
    {
     "data": {
      "text/plain": [
       "dict"
      ]
     },
     "execution_count": 149,
     "metadata": {},
     "output_type": "execute_result"
    }
   ],
   "source": [
    "q= {\n",
    "    'Name': 'Berthold',\n",
    "    'Telephone':'0501335890',\n",
    "    'Sex': 'none'\n",
    "}\n",
    "\n",
    "type(q)"
   ]
  },
  {
   "cell_type": "markdown",
   "id": "dc1e4af9",
   "metadata": {},
   "source": [
    "# Comparisons"
   ]
  },
  {
   "cell_type": "code",
   "execution_count": 152,
   "id": "e4480a30",
   "metadata": {},
   "outputs": [
    {
     "data": {
      "text/plain": [
       "True"
      ]
     },
     "execution_count": 152,
     "metadata": {},
     "output_type": "execute_result"
    }
   ],
   "source": [
    "2<=10"
   ]
  },
  {
   "cell_type": "code",
   "execution_count": 158,
   "id": "58eba2ef",
   "metadata": {},
   "outputs": [
    {
     "data": {
      "text/plain": [
       "False"
      ]
     },
     "execution_count": 158,
     "metadata": {},
     "output_type": "execute_result"
    }
   ],
   "source": [
    "4>5"
   ]
  },
  {
   "cell_type": "markdown",
   "id": "e1bc02b6",
   "metadata": {},
   "source": [
    "# logical Operators"
   ]
  },
  {
   "cell_type": "code",
   "execution_count": 161,
   "id": "2b3d64e0",
   "metadata": {},
   "outputs": [
    {
     "data": {
      "text/plain": [
       "False"
      ]
     },
     "execution_count": 161,
     "metadata": {},
     "output_type": "execute_result"
    }
   ],
   "source": [
    "(5<2) & (5>3)"
   ]
  },
  {
   "cell_type": "code",
   "execution_count": null,
   "id": "2d684211",
   "metadata": {},
   "outputs": [],
   "source": [
    "#both statements have to be true for a positive answer, if one is false, then the statement is false"
   ]
  },
  {
   "cell_type": "markdown",
   "id": "9eee74ea",
   "metadata": {},
   "source": [
    "# One way decisions"
   ]
  },
  {
   "cell_type": "code",
   "execution_count": 168,
   "id": "07abbe8b",
   "metadata": {},
   "outputs": [],
   "source": [
    "x=5"
   ]
  },
  {
   "cell_type": "code",
   "execution_count": 171,
   "id": "90cc8d73",
   "metadata": {},
   "outputs": [
    {
     "name": "stdout",
     "output_type": "stream",
     "text": [
      "x  equal 5\n"
     ]
    }
   ],
   "source": [
    "if x == 5:\n",
    "    print('x  equal 5')"
   ]
  },
  {
   "cell_type": "code",
   "execution_count": 174,
   "id": "4abe1c6d",
   "metadata": {},
   "outputs": [
    {
     "name": "stdout",
     "output_type": "stream",
     "text": [
      "x is greater than 4\n"
     ]
    }
   ],
   "source": [
    "if x > 4:\n",
    "    print('x is greater than 4')"
   ]
  },
  {
   "cell_type": "code",
   "execution_count": 175,
   "id": "682c8ba7",
   "metadata": {},
   "outputs": [
    {
     "name": "stdout",
     "output_type": "stream",
     "text": [
      "x does not equal to 5\n"
     ]
    }
   ],
   "source": [
    "if x != 6:\n",
    "    print('x does not equal to 5')\n",
    "    "
   ]
  },
  {
   "cell_type": "markdown",
   "id": "221c8d0f",
   "metadata": {},
   "source": [
    "# Two way decision"
   ]
  },
  {
   "cell_type": "code",
   "execution_count": null,
   "id": "8f174144",
   "metadata": {},
   "outputs": [],
   "source": []
  },
  {
   "cell_type": "code",
   "execution_count": 183,
   "id": "ee231b86",
   "metadata": {},
   "outputs": [
    {
     "name": "stdout",
     "output_type": "stream",
     "text": [
      "name ofori\n"
     ]
    }
   ],
   "source": [
    "name = input('name ')"
   ]
  },
  {
   "cell_type": "code",
   "execution_count": 185,
   "id": "3c3fe3a5",
   "metadata": {},
   "outputs": [
    {
     "name": "stdout",
     "output_type": "stream",
     "text": [
      "YOU ARE WELCOME ofori\n"
     ]
    }
   ],
   "source": [
    "if name == 'ofori':\n",
    "    print('YOU ARE WELCOME',name)\n",
    "else:\n",
    "    print('I dont know you')"
   ]
  },
  {
   "cell_type": "code",
   "execution_count": 188,
   "id": "0ada43ea",
   "metadata": {},
   "outputs": [
    {
     "name": "stdout",
     "output_type": "stream",
     "text": [
      "place your order kenkey\n",
      "we dont do this here\n"
     ]
    }
   ],
   "source": [
    "menu = input('place your order ')\n",
    "if menu == 'jollof':\n",
    "    print('how much')\n",
    "else:\n",
    "    print ('we dont do this here')"
   ]
  },
  {
   "cell_type": "code",
   "execution_count": 192,
   "id": "30bb4cae",
   "metadata": {},
   "outputs": [
    {
     "name": "stdout",
     "output_type": "stream",
     "text": [
      "place your orderbanku\n",
      "gedad the fok\n"
     ]
    }
   ],
   "source": [
    "menu = input('place your order')\n",
    "if menu == 'jollof':\n",
    "    print('how much')\n",
    "else:\n",
    "    print('gedad the fok')"
   ]
  },
  {
   "cell_type": "markdown",
   "id": "c2252dd8",
   "metadata": {},
   "source": [
    "# NESTED LOOP"
   ]
  },
  {
   "cell_type": "code",
   "execution_count": 200,
   "id": "178fe87d",
   "metadata": {},
   "outputs": [
    {
     "name": "stdout",
     "output_type": "stream",
     "text": [
      "\tstudent scored a passing grade\n",
      "\tstudent passed with A\n",
      "\tstudent passed with A+\n"
     ]
    }
   ],
   "source": [
    "grade= 100\n",
    "if grade > 60:\n",
    "    print('\\tstudent scored a passing grade')\n",
    "if grade >= 90:\n",
    "    print('\\tstudent passed with A')\n",
    "if grade >= 96:\n",
    "    print('\\tstudent passed with A+')"
   ]
  },
  {
   "cell_type": "code",
   "execution_count": 208,
   "id": "7a626196",
   "metadata": {},
   "outputs": [
    {
     "name": "stdout",
     "output_type": "stream",
     "text": [
      "enter your grade 99\n",
      "\tstudent scored a passing grade\n",
      "\tstudent passed with A\n",
      "\tstudent passed with A+\n"
     ]
    }
   ],
   "source": [
    "grade = int(input ('enter your grade'))\n",
    "if grade > 60:\n",
    "    print('\\tstudent scored a passing grade')\n",
    "if grade >= 90:\n",
    "    print('\\tstudent passed with A')\n",
    "if grade >= 96:\n",
    "    print('\\tstudent passed with A+')"
   ]
  },
  {
   "cell_type": "code",
   "execution_count": 1,
   "id": "45bf1317",
   "metadata": {},
   "outputs": [
    {
     "name": "stdout",
     "output_type": "stream",
     "text": [
      "enter your grade please 101\n",
      "Grade doesnt exist\n"
     ]
    }
   ],
   "source": [
    "num = int(input('enter your grade please '))\n",
    "if num >= 70 and num ==100:\n",
    "    print('A')\n",
    "elif num >= 60 and num <= 69:\n",
    "    print('B')\n",
    "elif num >= 40 and num <= 59:\n",
    "    print('C')\n",
    "elif num == 0:\n",
    "    print('You have failed')\n",
    "else:\n",
    "    print('Grade doesnt exist')"
   ]
  },
  {
   "cell_type": "code",
   "execution_count": null,
   "id": "f479b4a9",
   "metadata": {},
   "outputs": [],
   "source": []
  },
  {
   "cell_type": "code",
   "execution_count": null,
   "id": "2747fb8d",
   "metadata": {},
   "outputs": [],
   "source": []
  }
 ],
 "metadata": {
  "kernelspec": {
   "display_name": "Python 3 (ipykernel)",
   "language": "python",
   "name": "python3"
  },
  "language_info": {
   "codemirror_mode": {
    "name": "ipython",
    "version": 3
   },
   "file_extension": ".py",
   "mimetype": "text/x-python",
   "name": "python",
   "nbconvert_exporter": "python",
   "pygments_lexer": "ipython3",
   "version": "3.9.12"
  }
 },
 "nbformat": 4,
 "nbformat_minor": 5
}

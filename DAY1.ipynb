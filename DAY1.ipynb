{
 "cells": [
  {
   "cell_type": "markdown",
   "id": "1f327e4c",
   "metadata": {},
   "source": [
    "DAY 1"
   ]
  },
  {
   "cell_type": "markdown",
   "id": "a0ba3f4e",
   "metadata": {},
   "source": [
    "# COMMENTS AND HEADINGS\n",
    "VFBGDBNB THNFHG"
   ]
  },
  {
   "cell_type": "code",
   "execution_count": 3,
   "id": "3d250865",
   "metadata": {},
   "outputs": [
    {
     "name": "stdout",
     "output_type": "stream",
     "text": [
      "Daniel\n"
     ]
    }
   ],
   "source": [
    "print('Daniel')"
   ]
  },
  {
   "cell_type": "code",
   "execution_count": 4,
   "id": "1dede399",
   "metadata": {},
   "outputs": [
    {
     "name": "stdout",
     "output_type": "stream",
     "text": [
      "Daniel\n"
     ]
    }
   ],
   "source": [
    "print('Daniel')"
   ]
  },
  {
   "cell_type": "code",
   "execution_count": 5,
   "id": "7423716d",
   "metadata": {},
   "outputs": [
    {
     "name": "stdout",
     "output_type": "stream",
     "text": [
      "rice\n"
     ]
    }
   ],
   "source": [
    "print ('rice')"
   ]
  },
  {
   "cell_type": "code",
   "execution_count": 9,
   "id": "c356ff2d",
   "metadata": {},
   "outputs": [],
   "source": [
    "# hfjkfj"
   ]
  },
  {
   "cell_type": "code",
   "execution_count": 7,
   "id": "f125b415",
   "metadata": {},
   "outputs": [
    {
     "data": {
      "text/plain": [
       "'print daniel'"
      ]
     },
     "execution_count": 7,
     "metadata": {},
     "output_type": "execute_result"
    }
   ],
   "source": [
    "'''print daniel'''"
   ]
  },
  {
   "cell_type": "code",
   "execution_count": null,
   "id": "0dadb39b",
   "metadata": {},
   "outputs": [],
   "source": [
    "hdjfis"
   ]
  },
  {
   "cell_type": "markdown",
   "id": "afd93c04",
   "metadata": {},
   "source": [
    "# DATA TYPES"
   ]
  },
  {
   "cell_type": "code",
   "execution_count": 12,
   "id": "754459d6",
   "metadata": {},
   "outputs": [
    {
     "data": {
      "text/plain": [
       "10"
      ]
     },
     "execution_count": 12,
     "metadata": {},
     "output_type": "execute_result"
    }
   ],
   "source": [
    "10"
   ]
  },
  {
   "cell_type": "code",
   "execution_count": 13,
   "id": "000400d3",
   "metadata": {},
   "outputs": [
    {
     "data": {
      "text/plain": [
       "int"
      ]
     },
     "execution_count": 13,
     "metadata": {},
     "output_type": "execute_result"
    }
   ],
   "source": [
    "type(10)"
   ]
  },
  {
   "cell_type": "code",
   "execution_count": 14,
   "id": "3bfde47a",
   "metadata": {},
   "outputs": [
    {
     "data": {
      "text/plain": [
       "float"
      ]
     },
     "execution_count": 14,
     "metadata": {},
     "output_type": "execute_result"
    }
   ],
   "source": [
    "type(15.72)"
   ]
  },
  {
   "cell_type": "code",
   "execution_count": 16,
   "id": "a74a50f6",
   "metadata": {},
   "outputs": [
    {
     "data": {
      "text/plain": [
       "str"
      ]
     },
     "execution_count": 16,
     "metadata": {},
     "output_type": "execute_result"
    }
   ],
   "source": [
    "type('rain')"
   ]
  },
  {
   "cell_type": "code",
   "execution_count": 18,
   "id": "664566a6",
   "metadata": {},
   "outputs": [
    {
     "data": {
      "text/plain": [
       "list"
      ]
     },
     "execution_count": 18,
     "metadata": {},
     "output_type": "execute_result"
    }
   ],
   "source": [
    "type([12,34,56])"
   ]
  },
  {
   "cell_type": "code",
   "execution_count": 21,
   "id": "76428e82",
   "metadata": {},
   "outputs": [
    {
     "data": {
      "text/plain": [
       "list"
      ]
     },
     "execution_count": 21,
     "metadata": {},
     "output_type": "execute_result"
    }
   ],
   "source": [
    "type([2,3,5])"
   ]
  },
  {
   "cell_type": "code",
   "execution_count": 22,
   "id": "b47cc9e7",
   "metadata": {},
   "outputs": [
    {
     "data": {
      "text/plain": [
       "type[2, 3, 4, 5, 6]"
      ]
     },
     "execution_count": 22,
     "metadata": {},
     "output_type": "execute_result"
    }
   ],
   "source": [
    "type[2,3,4,5,6]"
   ]
  },
  {
   "cell_type": "code",
   "execution_count": 24,
   "id": "767db516",
   "metadata": {},
   "outputs": [
    {
     "data": {
      "text/plain": [
       "set"
      ]
     },
     "execution_count": 24,
     "metadata": {},
     "output_type": "execute_result"
    }
   ],
   "source": [
    "type({3,4,6,9})"
   ]
  },
  {
   "cell_type": "code",
   "execution_count": 25,
   "id": "53ff1794",
   "metadata": {},
   "outputs": [
    {
     "data": {
      "text/plain": [
       "tuple"
      ]
     },
     "execution_count": 25,
     "metadata": {},
     "output_type": "execute_result"
    }
   ],
   "source": [
    "type((3,7,8,0))"
   ]
  },
  {
   "cell_type": "markdown",
   "id": "af6148d3",
   "metadata": {},
   "source": [
    "# Variable Assignment"
   ]
  },
  {
   "cell_type": "code",
   "execution_count": 31,
   "id": "581de620",
   "metadata": {},
   "outputs": [],
   "source": [
    "s=6"
   ]
  },
  {
   "cell_type": "code",
   "execution_count": 32,
   "id": "3ab447c3",
   "metadata": {},
   "outputs": [],
   "source": [
    "d=5"
   ]
  },
  {
   "cell_type": "code",
   "execution_count": 34,
   "id": "1535ed21",
   "metadata": {},
   "outputs": [],
   "source": [
    "zz= d+s"
   ]
  },
  {
   "cell_type": "code",
   "execution_count": 35,
   "id": "6bd249c5",
   "metadata": {},
   "outputs": [
    {
     "data": {
      "text/plain": [
       "11"
      ]
     },
     "execution_count": 35,
     "metadata": {},
     "output_type": "execute_result"
    }
   ],
   "source": [
    "zz"
   ]
  },
  {
   "cell_type": "code",
   "execution_count": 37,
   "id": "def95ecf",
   "metadata": {},
   "outputs": [],
   "source": [
    "g=7"
   ]
  },
  {
   "cell_type": "code",
   "execution_count": 38,
   "id": "a27b8de0",
   "metadata": {},
   "outputs": [],
   "source": [
    "r=9898"
   ]
  },
  {
   "cell_type": "code",
   "execution_count": 39,
   "id": "6030bd6c",
   "metadata": {},
   "outputs": [],
   "source": [
    "bk=r-g"
   ]
  },
  {
   "cell_type": "code",
   "execution_count": 40,
   "id": "4803e077",
   "metadata": {},
   "outputs": [
    {
     "data": {
      "text/plain": [
       "9891"
      ]
     },
     "execution_count": 40,
     "metadata": {},
     "output_type": "execute_result"
    }
   ],
   "source": [
    "bk"
   ]
  },
  {
   "cell_type": "code",
   "execution_count": 41,
   "id": "3d4ebe82",
   "metadata": {},
   "outputs": [],
   "source": [
    "w=70"
   ]
  },
  {
   "cell_type": "code",
   "execution_count": 42,
   "id": "453ab545",
   "metadata": {},
   "outputs": [],
   "source": [
    "v=30"
   ]
  },
  {
   "cell_type": "code",
   "execution_count": 45,
   "id": "31754f8f",
   "metadata": {},
   "outputs": [],
   "source": [
    "m=(w/v)*100"
   ]
  },
  {
   "cell_type": "code",
   "execution_count": 46,
   "id": "79df20d6",
   "metadata": {},
   "outputs": [
    {
     "data": {
      "text/plain": [
       "233.33333333333334"
      ]
     },
     "execution_count": 46,
     "metadata": {},
     "output_type": "execute_result"
    }
   ],
   "source": [
    "m"
   ]
  },
  {
   "cell_type": "code",
   "execution_count": 47,
   "id": "9c8b42f8",
   "metadata": {},
   "outputs": [],
   "source": [
    "l=(v*w)+(v/w)"
   ]
  },
  {
   "cell_type": "code",
   "execution_count": 48,
   "id": "c8523736",
   "metadata": {},
   "outputs": [
    {
     "data": {
      "text/plain": [
       "2100.4285714285716"
      ]
     },
     "execution_count": 48,
     "metadata": {},
     "output_type": "execute_result"
    }
   ],
   "source": [
    "l"
   ]
  },
  {
   "cell_type": "code",
   "execution_count": 49,
   "id": "0340fe97",
   "metadata": {},
   "outputs": [
    {
     "data": {
      "text/plain": [
       "'g'"
      ]
     },
     "execution_count": 49,
     "metadata": {},
     "output_type": "execute_result"
    }
   ],
   "source": [
    "\"g\""
   ]
  },
  {
   "cell_type": "code",
   "execution_count": 55,
   "id": "0277e895",
   "metadata": {},
   "outputs": [],
   "source": [
    "a=5\n",
    "b=10"
   ]
  },
  {
   "cell_type": "code",
   "execution_count": 57,
   "id": "da959126",
   "metadata": {},
   "outputs": [],
   "source": [
    "c=a+b"
   ]
  },
  {
   "cell_type": "code",
   "execution_count": 52,
   "id": "091c6576",
   "metadata": {},
   "outputs": [
    {
     "data": {
      "text/plain": [
       "15"
      ]
     },
     "execution_count": 52,
     "metadata": {},
     "output_type": "execute_result"
    }
   ],
   "source": [
    "c"
   ]
  },
  {
   "cell_type": "code",
   "execution_count": 59,
   "id": "d6ddcc87",
   "metadata": {},
   "outputs": [],
   "source": [
    "a=6\n",
    "b=13\n",
    "\n",
    "c=b+a"
   ]
  },
  {
   "cell_type": "code",
   "execution_count": 60,
   "id": "a8ab3d0c",
   "metadata": {},
   "outputs": [
    {
     "data": {
      "text/plain": [
       "19"
      ]
     },
     "execution_count": 60,
     "metadata": {},
     "output_type": "execute_result"
    }
   ],
   "source": [
    "c"
   ]
  },
  {
   "cell_type": "markdown",
   "id": "135f6dbd",
   "metadata": {},
   "source": [
    "# Print "
   ]
  },
  {
   "cell_type": "code",
   "execution_count": 62,
   "id": "4467eda5",
   "metadata": {},
   "outputs": [
    {
     "name": "stdout",
     "output_type": "stream",
     "text": [
      "19\n"
     ]
    }
   ],
   "source": [
    "print (c)"
   ]
  },
  {
   "cell_type": "code",
   "execution_count": 65,
   "id": "9337eaa6",
   "metadata": {},
   "outputs": [
    {
     "name": "stdout",
     "output_type": "stream",
     "text": [
      "my name is chris\n",
      "Met student\n"
     ]
    }
   ],
   "source": [
    "print('my name is chris\\nMet student')"
   ]
  },
  {
   "cell_type": "code",
   "execution_count": 69,
   "id": "94f8af5d",
   "metadata": {},
   "outputs": [
    {
     "name": "stdout",
     "output_type": "stream",
     "text": [
      "question 1 is A\n",
      "question 2 is D\n",
      "question 3 is E\n"
     ]
    }
   ],
   "source": [
    "print('question 1 is A\\nquestion 2 is D\\nquestion 3 is E')"
   ]
  },
  {
   "cell_type": "code",
   "execution_count": 70,
   "id": "6e14a420",
   "metadata": {},
   "outputs": [
    {
     "name": "stdout",
     "output_type": "stream",
     "text": [
      "\n"
     ]
    }
   ],
   "source": [
    "print('')"
   ]
  },
  {
   "cell_type": "code",
   "execution_count": 71,
   "id": "f043192c",
   "metadata": {},
   "outputs": [
    {
     "name": "stdout",
     "output_type": "stream",
     "text": [
      "my name is Chris\n",
      "I stay at Bomso\n"
     ]
    }
   ],
   "source": [
    "print('my name is Chris\\nI stay at Bomso')"
   ]
  },
  {
   "cell_type": "code",
   "execution_count": 72,
   "id": "a78f758c",
   "metadata": {},
   "outputs": [
    {
     "name": "stdout",
     "output_type": "stream",
     "text": [
      "my name is Berthold\n",
      "I stay at Lagos Town\n"
     ]
    }
   ],
   "source": [
    "print('my name is Berthold\\nI stay at Lagos Town')"
   ]
  },
  {
   "cell_type": "code",
   "execution_count": 74,
   "id": "89ada73e",
   "metadata": {},
   "outputs": [
    {
     "name": "stdout",
     "output_type": "stream",
     "text": [
      "29.833333333333332\n"
     ]
    }
   ],
   "source": [
    "print(a+b*zz/a)"
   ]
  },
  {
   "cell_type": "code",
   "execution_count": 77,
   "id": "249a2423",
   "metadata": {},
   "outputs": [],
   "source": [
    "course='METEOROLOGY AND CLIMATE SCIENCE'\n"
   ]
  },
  {
   "cell_type": "code",
   "execution_count": 78,
   "id": "37951721",
   "metadata": {},
   "outputs": [
    {
     "data": {
      "text/plain": [
       "31"
      ]
     },
     "execution_count": 78,
     "metadata": {},
     "output_type": "execute_result"
    }
   ],
   "source": [
    "len(course)"
   ]
  },
  {
   "cell_type": "code",
   "execution_count": 79,
   "id": "44bdedb6",
   "metadata": {},
   "outputs": [
    {
     "data": {
      "text/plain": [
       "'M'"
      ]
     },
     "execution_count": 79,
     "metadata": {},
     "output_type": "execute_result"
    }
   ],
   "source": [
    "course[0]"
   ]
  },
  {
   "cell_type": "code",
   "execution_count": 88,
   "id": "48876215",
   "metadata": {},
   "outputs": [],
   "source": [
    "# indexing even"
   ]
  },
  {
   "cell_type": "code",
   "execution_count": 80,
   "id": "96aefb7c",
   "metadata": {},
   "outputs": [
    {
     "data": {
      "text/plain": [
       "'ME'"
      ]
     },
     "execution_count": 80,
     "metadata": {},
     "output_type": "execute_result"
    }
   ],
   "source": [
    "course[0:2]"
   ]
  },
  {
   "cell_type": "code",
   "execution_count": 81,
   "id": "bdb3b224",
   "metadata": {},
   "outputs": [
    {
     "data": {
      "text/plain": [
       "'MET'"
      ]
     },
     "execution_count": 81,
     "metadata": {},
     "output_type": "execute_result"
    }
   ],
   "source": [
    "course[0:3]"
   ]
  },
  {
   "cell_type": "code",
   "execution_count": 87,
   "id": "5c651f0a",
   "metadata": {},
   "outputs": [],
   "source": [
    "# indexing odd"
   ]
  },
  {
   "cell_type": "code",
   "execution_count": 82,
   "id": "af8090a9",
   "metadata": {},
   "outputs": [
    {
     "data": {
      "text/plain": [
       "'MTOOOYADCIAESINE'"
      ]
     },
     "execution_count": 82,
     "metadata": {},
     "output_type": "execute_result"
    }
   ],
   "source": [
    "course[::2]"
   ]
  },
  {
   "cell_type": "code",
   "execution_count": 86,
   "id": "43bd6d5d",
   "metadata": {},
   "outputs": [
    {
     "data": {
      "text/plain": [
       "'OOOYADCIAESINE'"
      ]
     },
     "execution_count": 86,
     "metadata": {},
     "output_type": "execute_result"
    }
   ],
   "source": [
    "course[4::2]"
   ]
  },
  {
   "cell_type": "markdown",
   "id": "638d7c68",
   "metadata": {},
   "source": [
    "# concatenation"
   ]
  },
  {
   "cell_type": "code",
   "execution_count": 89,
   "id": "beece27b",
   "metadata": {},
   "outputs": [],
   "source": [
    "# Joining words, letters,numbers together"
   ]
  },
  {
   "cell_type": "code",
   "execution_count": 93,
   "id": "33f31c0b",
   "metadata": {},
   "outputs": [],
   "source": [
    "a='Meteorology '\n",
    "b='and '\n",
    "c='Climate '\n",
    "d='Science'"
   ]
  },
  {
   "cell_type": "code",
   "execution_count": 94,
   "id": "0d86966b",
   "metadata": {},
   "outputs": [
    {
     "name": "stdout",
     "output_type": "stream",
     "text": [
      "Meteorology and Climate Science\n"
     ]
    }
   ],
   "source": [
    "print(a+b+c+d)"
   ]
  },
  {
   "cell_type": "code",
   "execution_count": 96,
   "id": "f2d338ce",
   "metadata": {},
   "outputs": [
    {
     "name": "stdout",
     "output_type": "stream",
     "text": [
      "Meteorology  and  Climate  Science\n"
     ]
    }
   ],
   "source": [
    "print(a,b,c,d)"
   ]
  },
  {
   "cell_type": "code",
   "execution_count": 100,
   "id": "9ce6dda9",
   "metadata": {},
   "outputs": [
    {
     "name": "stdout",
     "output_type": "stream",
     "text": [
      "Vote Rhoda 2023\n",
      "Vote Rhoda 2023\n",
      "Vote Rhoda 2023\n",
      "Vote Rhoda 2023\n",
      "Vote Rhoda 2023\n",
      "Vote Rhoda 2023\n",
      "Vote Rhoda 2023\n",
      "Vote Rhoda 2023\n",
      "Vote Rhoda 2023\n",
      "Vote Rhoda 2023\n",
      "Vote Rhoda 2023\n",
      "Vote Rhoda 2023\n",
      "Vote Rhoda 2023\n",
      "Vote Rhoda 2023\n",
      "Vote Rhoda 2023\n",
      "Vote Rhoda 2023\n",
      "Vote Rhoda 2023\n",
      "Vote Rhoda 2023\n",
      "Vote Rhoda 2023\n",
      "Vote Rhoda 2023\n",
      "\n"
     ]
    }
   ],
   "source": [
    "print('Vote Rhoda 2023\\n'*20)"
   ]
  },
  {
   "cell_type": "code",
   "execution_count": 102,
   "id": "6bc1ebd4",
   "metadata": {},
   "outputs": [
    {
     "name": "stdout",
     "output_type": "stream",
     "text": [
      "vote for RHODA 2023\n",
      "vote for RHODA 2023\n",
      "vote for RHODA 2023\n",
      "vote for RHODA 2023\n",
      "vote for RHODA 2023\n",
      "vote for RHODA 2023\n",
      "vote for RHODA 2023\n",
      "vote for RHODA 2023\n",
      "vote for RHODA 2023\n",
      "vote for RHODA 2023\n",
      "\n"
     ]
    }
   ],
   "source": [
    "print('vote for RHODA 2023\\n'*10)"
   ]
  },
  {
   "cell_type": "markdown",
   "id": "bcd8c65d",
   "metadata": {},
   "source": [
    "# formatting strings"
   ]
  },
  {
   "cell_type": "code",
   "execution_count": 103,
   "id": "6faf9f44",
   "metadata": {},
   "outputs": [],
   "source": [
    "a='FELLOW GHANAIANS, THE DOLLAR IS 12 CEDIS' "
   ]
  },
  {
   "cell_type": "code",
   "execution_count": 112,
   "id": "e905a481",
   "metadata": {},
   "outputs": [],
   "source": [
    "b=a.lower()"
   ]
  },
  {
   "cell_type": "code",
   "execution_count": 114,
   "id": "22730384",
   "metadata": {},
   "outputs": [
    {
     "data": {
      "text/plain": [
       "'fellow ghanaians, the dollar is 12 cedis'"
      ]
     },
     "execution_count": 114,
     "metadata": {},
     "output_type": "execute_result"
    }
   ],
   "source": [
    "b"
   ]
  },
  {
   "cell_type": "code",
   "execution_count": 115,
   "id": "5a46fc3b",
   "metadata": {},
   "outputs": [],
   "source": [
    "c=b.upper()"
   ]
  },
  {
   "cell_type": "code",
   "execution_count": 116,
   "id": "e0c2d9a4",
   "metadata": {},
   "outputs": [
    {
     "data": {
      "text/plain": [
       "'FELLOW GHANAIANS, THE DOLLAR IS 12 CEDIS'"
      ]
     },
     "execution_count": 116,
     "metadata": {},
     "output_type": "execute_result"
    }
   ],
   "source": [
    "c"
   ]
  },
  {
   "cell_type": "code",
   "execution_count": 118,
   "id": "b65cd7b2",
   "metadata": {},
   "outputs": [
    {
     "data": {
      "text/plain": [
       "'Fellow ghanaians, the dollar is 12 cedis'"
      ]
     },
     "execution_count": 118,
     "metadata": {},
     "output_type": "execute_result"
    }
   ],
   "source": [
    "b.capitalize()"
   ]
  },
  {
   "cell_type": "code",
   "execution_count": 121,
   "id": "e31f9f50",
   "metadata": {},
   "outputs": [
    {
     "data": {
      "text/plain": [
       "'Fellow ghanaians, the dollar is 12 cedis'"
      ]
     },
     "execution_count": 121,
     "metadata": {},
     "output_type": "execute_result"
    }
   ],
   "source": [
    "c.capitalize()"
   ]
  },
  {
   "cell_type": "code",
   "execution_count": 122,
   "id": "4ff4bf7d",
   "metadata": {},
   "outputs": [
    {
     "data": {
      "text/plain": [
       "['FELLOW', 'GHANAIANS,', 'THE', 'DOLLAR', 'IS', '12', 'CEDIS']"
      ]
     },
     "execution_count": 122,
     "metadata": {},
     "output_type": "execute_result"
    }
   ],
   "source": [
    "c.split()"
   ]
  },
  {
   "cell_type": "code",
   "execution_count": 123,
   "id": "64f8ea66",
   "metadata": {},
   "outputs": [
    {
     "data": {
      "text/plain": [
       "['fellow', 'ghanaians,', 'the', 'dollar', 'is', '12', 'cedis']"
      ]
     },
     "execution_count": 123,
     "metadata": {},
     "output_type": "execute_result"
    }
   ],
   "source": [
    "b.split()"
   ]
  },
  {
   "cell_type": "code",
   "execution_count": 124,
   "id": "8082223a",
   "metadata": {},
   "outputs": [
    {
     "data": {
      "text/plain": [
       "'fellow ghanaians, the euro is 12 cedis'"
      ]
     },
     "execution_count": 124,
     "metadata": {},
     "output_type": "execute_result"
    }
   ],
   "source": [
    "b.replace('dollar','euro')"
   ]
  },
  {
   "cell_type": "code",
   "execution_count": 125,
   "id": "4ae06b8c",
   "metadata": {},
   "outputs": [
    {
     "data": {
      "text/plain": [
       "'FELLOW CANADIANS, THE DOLLAR IS 12 CEDIS'"
      ]
     },
     "execution_count": 125,
     "metadata": {},
     "output_type": "execute_result"
    }
   ],
   "source": [
    "c.replace('GHANAIANS','CANADIANS')"
   ]
  },
  {
   "cell_type": "code",
   "execution_count": 129,
   "id": "263b19c2",
   "metadata": {},
   "outputs": [
    {
     "data": {
      "text/plain": [
       "'fellow kumericans, the euro is 12 cedis'"
      ]
     },
     "execution_count": 129,
     "metadata": {},
     "output_type": "execute_result"
    }
   ],
   "source": [
    "d=b.replace('ghanaians','kumericans')\n",
    "d.replace('dollar','euro')"
   ]
  },
  {
   "cell_type": "code",
   "execution_count": 134,
   "id": "85baba4f",
   "metadata": {},
   "outputs": [],
   "source": [
    "first='welcome to the {year} {prog} organized by {organizers}'.format(year=2022, organizers = 'OneQuantum Ghana', prog = 'Christian')"
   ]
  },
  {
   "cell_type": "code",
   "execution_count": 137,
   "id": "dda28a10",
   "metadata": {},
   "outputs": [],
   "source": [
    "third='welcome to the {} {prog} organized by {organizers}'.format(2023, organizers = 'OneQuantum Ghana', prog = 'Christian')"
   ]
  },
  {
   "cell_type": "code",
   "execution_count": 138,
   "id": "3c322cca",
   "metadata": {},
   "outputs": [
    {
     "data": {
      "text/plain": [
       "'welcome to the 2023 Christian organized by OneQuantum Ghana'"
      ]
     },
     "execution_count": 138,
     "metadata": {},
     "output_type": "execute_result"
    }
   ],
   "source": [
    "third"
   ]
  },
  {
   "cell_type": "code",
   "execution_count": 136,
   "id": "4559b8b6",
   "metadata": {},
   "outputs": [
    {
     "data": {
      "text/plain": [
       "'welcome to the 2022 Christian organized by OneQuantum Ghana'"
      ]
     },
     "execution_count": 136,
     "metadata": {},
     "output_type": "execute_result"
    }
   ],
   "source": [
    "first"
   ]
  },
  {
   "cell_type": "code",
   "execution_count": 139,
   "id": "65d5616e",
   "metadata": {},
   "outputs": [],
   "source": [
    "second='my name is {0}, I am {1}cm tall'.format('chris',167)"
   ]
  },
  {
   "cell_type": "code",
   "execution_count": 140,
   "id": "75bbe1ec",
   "metadata": {},
   "outputs": [
    {
     "data": {
      "text/plain": [
       "'my name is chris, I am 167cm tall'"
      ]
     },
     "execution_count": 140,
     "metadata": {},
     "output_type": "execute_result"
    }
   ],
   "source": [
    "second"
   ]
  },
  {
   "cell_type": "markdown",
   "id": "8d85a49b",
   "metadata": {},
   "source": [
    "# basic mathematics"
   ]
  },
  {
   "cell_type": "code",
   "execution_count": null,
   "id": "7791c4d1",
   "metadata": {},
   "outputs": [],
   "source": [
    "#floor division"
   ]
  },
  {
   "cell_type": "code",
   "execution_count": 143,
   "id": "6daf5402",
   "metadata": {},
   "outputs": [
    {
     "data": {
      "text/plain": [
       "1"
      ]
     },
     "execution_count": 143,
     "metadata": {},
     "output_type": "execute_result"
    }
   ],
   "source": [
    "7//5"
   ]
  },
  {
   "cell_type": "markdown",
   "id": "91a59cc4",
   "metadata": {},
   "source": [
    "# Boolean Data Type"
   ]
  },
  {
   "cell_type": "code",
   "execution_count": 145,
   "id": "573ae376",
   "metadata": {},
   "outputs": [
    {
     "data": {
      "text/plain": [
       "False"
      ]
     },
     "execution_count": 145,
     "metadata": {},
     "output_type": "execute_result"
    }
   ],
   "source": [
    "2>75"
   ]
  },
  {
   "cell_type": "code",
   "execution_count": 146,
   "id": "70af5e76",
   "metadata": {},
   "outputs": [
    {
     "data": {
      "text/plain": [
       "False"
      ]
     },
     "execution_count": 146,
     "metadata": {},
     "output_type": "execute_result"
    }
   ],
   "source": [
    "11.2==11.22"
   ]
  },
  {
   "cell_type": "code",
   "execution_count": 147,
   "id": "e9b49295",
   "metadata": {},
   "outputs": [
    {
     "data": {
      "text/plain": [
       "bool"
      ]
     },
     "execution_count": 147,
     "metadata": {},
     "output_type": "execute_result"
    }
   ],
   "source": [
    "type(11.2==11.22)"
   ]
  },
  {
   "cell_type": "markdown",
   "id": "3f39c186",
   "metadata": {},
   "source": [
    "# Dictionary"
   ]
  },
  {
   "cell_type": "code",
   "execution_count": 151,
   "id": "4c77f0d4",
   "metadata": {},
   "outputs": [
    {
     "data": {
      "text/plain": [
       "dict"
      ]
     },
     "execution_count": 151,
     "metadata": {},
     "output_type": "execute_result"
    }
   ],
   "source": [
    "p= {\n",
    "    'Name':'chris',\n",
    "    'telephone': '0501401269',\n",
    "    'Gender': 'prefer not to say'\n",
    "}\n",
    "\n",
    "type(p)\n"
   ]
  },
  {
   "cell_type": "code",
   "execution_count": null,
   "id": "72be3b9d",
   "metadata": {},
   "outputs": [],
   "source": [
    "type"
   ]
  },
  {
   "cell_type": "code",
   "execution_count": 149,
   "id": "3c693380",
   "metadata": {},
   "outputs": [
    {
     "data": {
      "text/plain": [
       "dict"
      ]
     },
     "execution_count": 149,
     "metadata": {},
     "output_type": "execute_result"
    }
   ],
   "source": [
    "q= {\n",
    "    'Name': 'Berthold',\n",
    "    'Telephone':'0501335890',\n",
    "    'Sex': 'none'\n",
    "}\n",
    "\n",
    "type(q)"
   ]
  },
  {
   "cell_type": "markdown",
   "id": "6bbf1f9a",
   "metadata": {},
   "source": [
    "# Comparisons"
   ]
  },
  {
   "cell_type": "code",
   "execution_count": 152,
   "id": "cb8478f4",
   "metadata": {},
   "outputs": [
    {
     "data": {
      "text/plain": [
       "True"
      ]
     },
     "execution_count": 152,
     "metadata": {},
     "output_type": "execute_result"
    }
   ],
   "source": [
    "2<=10"
   ]
  },
  {
   "cell_type": "code",
   "execution_count": 158,
   "id": "14b40ac6",
   "metadata": {},
   "outputs": [
    {
     "data": {
      "text/plain": [
       "False"
      ]
     },
     "execution_count": 158,
     "metadata": {},
     "output_type": "execute_result"
    }
   ],
   "source": [
    "4>5"
   ]
  },
  {
   "cell_type": "markdown",
   "id": "e7f513ef",
   "metadata": {},
   "source": [
    "# logical Operators"
   ]
  },
  {
   "cell_type": "code",
   "execution_count": 161,
   "id": "936f42e1",
   "metadata": {},
   "outputs": [
    {
     "data": {
      "text/plain": [
       "False"
      ]
     },
     "execution_count": 161,
     "metadata": {},
     "output_type": "execute_result"
    }
   ],
   "source": [
    "(5<2) & (5>3)"
   ]
  },
  {
   "cell_type": "code",
   "execution_count": null,
   "id": "9f3a9ee9",
   "metadata": {},
   "outputs": [],
   "source": [
    "#both statements have to be true for a positive answer, if one is false, then the statement is false"
   ]
  },
  {
   "cell_type": "markdown",
   "id": "97c25a85",
   "metadata": {},
   "source": [
    "# One way decisions"
   ]
  },
  {
   "cell_type": "code",
   "execution_count": 168,
   "id": "395c41b1",
   "metadata": {},
   "outputs": [],
   "source": [
    "x=5"
   ]
  },
  {
   "cell_type": "code",
   "execution_count": 171,
   "id": "5a33ff13",
   "metadata": {},
   "outputs": [
    {
     "name": "stdout",
     "output_type": "stream",
     "text": [
      "x  equal 5\n"
     ]
    }
   ],
   "source": [
    "if x == 5:\n",
    "    print('x  equal 5')"
   ]
  },
  {
   "cell_type": "code",
   "execution_count": 174,
   "id": "32544bbb",
   "metadata": {},
   "outputs": [
    {
     "name": "stdout",
     "output_type": "stream",
     "text": [
      "x is greater than 4\n"
     ]
    }
   ],
   "source": [
    "if x > 4:\n",
    "    print('x is greater than 4')"
   ]
  },
  {
   "cell_type": "code",
   "execution_count": 175,
   "id": "79c904e1",
   "metadata": {},
   "outputs": [
    {
     "name": "stdout",
     "output_type": "stream",
     "text": [
      "x does not equal to 5\n"
     ]
    }
   ],
   "source": [
    "if x != 6:\n",
    "    print('x does not equal to 5')\n",
    "    "
   ]
  },
  {
   "cell_type": "markdown",
   "id": "d37623f1",
   "metadata": {},
   "source": [
    "# Two way decision"
   ]
  },
  {
   "cell_type": "code",
   "execution_count": null,
   "id": "19bfdc1a",
   "metadata": {},
   "outputs": [],
   "source": []
  },
  {
   "cell_type": "code",
   "execution_count": 183,
   "id": "8e9b2d8c",
   "metadata": {},
   "outputs": [
    {
     "name": "stdout",
     "output_type": "stream",
     "text": [
      "name ofori\n"
     ]
    }
   ],
   "source": [
    "name = input('name ')"
   ]
  },
  {
   "cell_type": "code",
   "execution_count": 185,
   "id": "b12bfc08",
   "metadata": {},
   "outputs": [
    {
     "name": "stdout",
     "output_type": "stream",
     "text": [
      "YOU ARE WELCOME ofori\n"
     ]
    }
   ],
   "source": [
    "if name == 'ofori':\n",
    "    print('YOU ARE WELCOME',name)\n",
    "else:\n",
    "    print('I dont know you')"
   ]
  },
  {
   "cell_type": "code",
   "execution_count": 188,
   "id": "3076d274",
   "metadata": {},
   "outputs": [
    {
     "name": "stdout",
     "output_type": "stream",
     "text": [
      "place your order kenkey\n",
      "we dont do this here\n"
     ]
    }
   ],
   "source": [
    "menu = input('place your order ')\n",
    "if menu == 'jollof':\n",
    "    print('how much')\n",
    "else:\n",
    "    print ('we dont do this here')"
   ]
  },
  {
   "cell_type": "code",
   "execution_count": 192,
   "id": "2ea7ddbe",
   "metadata": {},
   "outputs": [
    {
     "name": "stdout",
     "output_type": "stream",
     "text": [
      "place your orderbanku\n",
      "gedad the fok\n"
     ]
    }
   ],
   "source": [
    "menu = input('place your order')\n",
    "if menu == 'jollof':\n",
    "    print('how much')\n",
    "else:\n",
    "    print('gedad the fok')"
   ]
  },
  {
   "cell_type": "markdown",
   "id": "829ac9e7",
   "metadata": {},
   "source": [
    "# NESTED LOOP"
   ]
  },
  {
   "cell_type": "code",
   "execution_count": 200,
   "id": "4dfb42e0",
   "metadata": {},
   "outputs": [
    {
     "name": "stdout",
     "output_type": "stream",
     "text": [
      "\tstudent scored a passing grade\n",
      "\tstudent passed with A\n",
      "\tstudent passed with A+\n"
     ]
    }
   ],
   "source": [
    "grade= 100\n",
    "if grade > 60:\n",
    "    print('\\tstudent scored a passing grade')\n",
    "if grade >= 90:\n",
    "    print('\\tstudent passed with A')\n",
    "if grade >= 96:\n",
    "    print('\\tstudent passed with A+')"
   ]
  },
  {
   "cell_type": "code",
   "execution_count": 208,
   "id": "1882ce3e",
   "metadata": {},
   "outputs": [
    {
     "name": "stdout",
     "output_type": "stream",
     "text": [
      "enter your grade 99\n",
      "\tstudent scored a passing grade\n",
      "\tstudent passed with A\n",
      "\tstudent passed with A+\n"
     ]
    }
   ],
   "source": [
    "grade = int(input ('enter your grade'))\n",
    "if grade > 60:\n",
    "    print('\\tstudent scored a passing grade')\n",
    "if grade >= 90:\n",
    "    print('\\tstudent passed with A')\n",
    "if grade >= 96:\n",
    "    print('\\tstudent passed with A+')"
   ]
  },
  {
   "cell_type": "code",
   "execution_count": 215,
   "id": "8a3e5d5e",
   "metadata": {},
   "outputs": [
    {
     "name": "stdout",
     "output_type": "stream",
     "text": [
      "enter your grade please 120\n",
      "Grade doesnt exist\n"
     ]
    }
   ],
   "source": [
    "num = int(input('enter your grade please '))\n",
    "if num >= 70 and num ==100:\n",
    "    print('A')\n",
    "elif num >= 60 and num <= 69:\n",
    "    print('B')\n",
    "elif num >= 40 and num <= 59:\n",
    "    print('C')\n",
    "elif num == 0:\n",
    "    print('You have failed')\n",
    "else:\n",
    "    print('Grade doesnt exist')"
   ]
  },
  {
   "cell_type": "code",
   "execution_count": null,
   "id": "f2aee934",
   "metadata": {},
   "outputs": [],
   "source": []
  },
  {
   "cell_type": "code",
   "execution_count": null,
   "id": "1b999a7b",
   "metadata": {},
   "outputs": [],
   "source": []
  }
 ],
 "metadata": {
  "kernelspec": {
   "display_name": "Python 3 (ipykernel)",
   "language": "python",
   "name": "python3"
  },
  "language_info": {
   "codemirror_mode": {
    "name": "ipython",
    "version": 3
   },
   "file_extension": ".py",
   "mimetype": "text/x-python",
   "name": "python",
   "nbconvert_exporter": "python",
   "pygments_lexer": "ipython3",
   "version": "3.9.12"
  }
 },
 "nbformat": 4,
 "nbformat_minor": 5
}

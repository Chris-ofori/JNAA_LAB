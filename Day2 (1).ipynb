{
 "cells": [
  {
   "cell_type": "markdown",
   "id": "b8c50fa5",
   "metadata": {},
   "source": [
    "# Day 2"
   ]
  },
  {
   "cell_type": "markdown",
   "id": "205e7721",
   "metadata": {},
   "source": [
    "# Loops"
   ]
  },
  {
   "cell_type": "code",
   "execution_count": 1,
   "id": "18dd9b8f",
   "metadata": {},
   "outputs": [],
   "source": [
    "# While Loop"
   ]
  },
  {
   "cell_type": "code",
   "execution_count": 2,
   "id": "5a8d35f1",
   "metadata": {},
   "outputs": [
    {
     "name": "stdout",
     "output_type": "stream",
     "text": [
      "1\n",
      "2\n",
      "3\n",
      "4\n",
      "5\n"
     ]
    }
   ],
   "source": [
    "x=1\n",
    "while x < 6:\n",
    "    print(x)\n",
    "    x = x + 1"
   ]
  },
  {
   "cell_type": "code",
   "execution_count": 3,
   "id": "8b3ce03c",
   "metadata": {},
   "outputs": [
    {
     "name": "stdout",
     "output_type": "stream",
     "text": [
      "1\n",
      "2\n",
      "3\n",
      "4\n",
      "5\n"
     ]
    }
   ],
   "source": [
    "x=1\n",
    "while x< 6:\n",
    "    print(x)\n",
    "    x=x+1"
   ]
  },
  {
   "cell_type": "code",
   "execution_count": 6,
   "id": "b4262812",
   "metadata": {},
   "outputs": [
    {
     "name": "stdout",
     "output_type": "stream",
     "text": [
      "x is 1\n",
      "x is 2\n",
      "x is 3\n",
      "x is 4\n",
      "x is 5\n",
      "x is 6\n",
      "x is 7\n",
      "x is no longer < 8\n"
     ]
    }
   ],
   "source": [
    "x=1\n",
    "while x<8:\n",
    "    print('x is',x)\n",
    "    x += 1\n",
    "else:\n",
    "    print('x is no longer < 8')"
   ]
  },
  {
   "cell_type": "code",
   "execution_count": 12,
   "id": "0eca70d2",
   "metadata": {},
   "outputs": [
    {
     "name": "stdout",
     "output_type": "stream",
     "text": [
      "15 59.0\n",
      "20 68.0\n",
      "25 77.0\n",
      "30 86.0\n",
      "35 95.0\n",
      "40 104.0\n",
      "45 113.0\n",
      "50 122.0\n",
      "55 131.0\n",
      "60 140.0\n",
      "65 149.0\n"
     ]
    }
   ],
   "source": [
    "T=15\n",
    "while T<70:\n",
    "    F=((9*T)/5)+32\n",
    "    print(T,F)\n",
    "    T += 5"
   ]
  },
  {
   "cell_type": "code",
   "execution_count": 13,
   "id": "d1354ecb",
   "metadata": {},
   "outputs": [
    {
     "name": "stdout",
     "output_type": "stream",
     "text": [
      "5 278\n",
      "10 283\n",
      "15 288\n",
      "20 293\n",
      "25 298\n",
      "30 303\n",
      "35 308\n",
      "40 313\n",
      "45 318\n",
      "50 323\n",
      "55 328\n",
      "60 333\n",
      "65 338\n",
      "70 343\n",
      "75 348\n",
      "80 353\n"
     ]
    }
   ],
   "source": [
    "D=5\n",
    "while D<=80:\n",
    "    Y=(273+D)\n",
    "    print(D,Y)\n",
    "    D += 5"
   ]
  },
  {
   "cell_type": "code",
   "execution_count": 16,
   "id": "2b8919a1",
   "metadata": {},
   "outputs": [
    {
     "name": "stdout",
     "output_type": "stream",
     "text": [
      "5 278\n",
      "10 283\n",
      "15 288\n",
      "20 293\n",
      "25 298\n",
      "30 303\n",
      "35 308\n",
      "40 313\n",
      "45 318\n",
      "50 323\n",
      "55 328\n",
      "60 333\n",
      "65 338\n",
      "70 343\n",
      "75 348\n",
      "80 353\n"
     ]
    }
   ],
   "source": [
    "G=5\n",
    "while G<=80:\n",
    "    R=(273+G)\n",
    "    print(G,R)\n",
    "    G += 5"
   ]
  },
  {
   "cell_type": "markdown",
   "id": "c0bce519",
   "metadata": {},
   "source": [
    "# For Loop"
   ]
  },
  {
   "cell_type": "code",
   "execution_count": 20,
   "id": "55c30600",
   "metadata": {},
   "outputs": [
    {
     "name": "stdout",
     "output_type": "stream",
     "text": [
      "P\n",
      "Y\n",
      "T\n",
      "H\n",
      "O\n",
      "N\n",
      " \n",
      "P\n",
      "R\n",
      "O\n",
      "G\n",
      "R\n",
      "A\n",
      "M\n",
      "M\n",
      "I\n",
      "N\n",
      "G\n"
     ]
    }
   ],
   "source": [
    "# Example with string\n",
    "Language = 'PYTHON PROGRAMMING'\n",
    "for l in Language:\n",
    "    print(l)"
   ]
  },
  {
   "cell_type": "code",
   "execution_count": 21,
   "id": "96dad9f1",
   "metadata": {},
   "outputs": [
    {
     "name": "stdout",
     "output_type": "stream",
     "text": [
      "chris\n",
      "james\n",
      "desmond\n",
      "jannatt\n"
     ]
    }
   ],
   "source": [
    "Interns = ['chris','james','desmond','jannatt']\n",
    "for d in Interns:\n",
    "    print(d)"
   ]
  },
  {
   "cell_type": "code",
   "execution_count": 23,
   "id": "97ed0c0f",
   "metadata": {},
   "outputs": [
    {
     "name": "stdout",
     "output_type": "stream",
     "text": [
      "1\n",
      "4\n",
      "7\n",
      "10\n",
      "13\n",
      "16\n",
      "19\n",
      "22\n"
     ]
    }
   ],
   "source": [
    "for x in range (1,25,3):\n",
    "    print(x)"
   ]
  },
  {
   "cell_type": "code",
   "execution_count": 25,
   "id": "7eab1c95",
   "metadata": {},
   "outputs": [
    {
     "name": "stdout",
     "output_type": "stream",
     "text": [
      "1\n",
      "2\n",
      "3\n",
      "4\n",
      "5\n",
      "6\n",
      "7\n",
      "8\n",
      "9\n",
      "10\n",
      "11\n",
      "12\n",
      "13\n",
      "14\n",
      "15\n",
      "16\n",
      "17\n",
      "18\n",
      "19\n",
      "20\n",
      "21\n",
      "22\n",
      "23\n",
      "24\n",
      "25\n",
      "26\n",
      "27\n",
      "28\n",
      "29\n",
      "30\n",
      "31\n",
      "32\n",
      "33\n",
      "34\n",
      "35\n"
     ]
    }
   ],
   "source": [
    "for x in range (1,36):\n",
    "    print(x)"
   ]
  },
  {
   "cell_type": "code",
   "execution_count": 26,
   "id": "c87563ed",
   "metadata": {},
   "outputs": [],
   "source": [
    "import numpy as np"
   ]
  },
  {
   "cell_type": "code",
   "execution_count": 29,
   "id": "1eb48655",
   "metadata": {},
   "outputs": [
    {
     "data": {
      "text/plain": [
       "array([  1,   2,   3,   4,   5,   6,   7,   8,   9,  10,  11,  12,  13,\n",
       "        14,  15,  16,  17,  18,  19,  20,  21,  22,  23,  24,  25,  26,\n",
       "        27,  28,  29,  30,  31,  32,  33,  34,  35,  36,  37,  38,  39,\n",
       "        40,  41,  42,  43,  44,  45,  46,  47,  48,  49,  50,  51,  52,\n",
       "        53,  54,  55,  56,  57,  58,  59,  60,  61,  62,  63,  64,  65,\n",
       "        66,  67,  68,  69,  70,  71,  72,  73,  74,  75,  76,  77,  78,\n",
       "        79,  80,  81,  82,  83,  84,  85,  86,  87,  88,  89,  90,  91,\n",
       "        92,  93,  94,  95,  96,  97,  98,  99, 100, 101, 102, 103, 104,\n",
       "       105, 106, 107, 108, 109, 110, 111, 112, 113, 114, 115, 116, 117,\n",
       "       118, 119, 120, 121, 122, 123, 124, 125, 126, 127, 128, 129, 130,\n",
       "       131, 132, 133, 134, 135, 136, 137, 138, 139, 140, 141, 142, 143,\n",
       "       144, 145, 146, 147, 148, 149, 150, 151, 152, 153, 154, 155, 156,\n",
       "       157, 158, 159, 160, 161, 162, 163, 164, 165, 166, 167, 168, 169,\n",
       "       170, 171, 172, 173, 174, 175, 176, 177, 178, 179, 180, 181, 182,\n",
       "       183, 184, 185, 186, 187, 188, 189, 190, 191, 192, 193, 194, 195,\n",
       "       196, 197, 198, 199, 200, 201, 202, 203, 204, 205, 206, 207, 208,\n",
       "       209, 210, 211, 212, 213, 214, 215, 216, 217, 218, 219, 220, 221,\n",
       "       222, 223, 224, 225, 226, 227, 228, 229, 230, 231, 232, 233, 234,\n",
       "       235, 236, 237, 238, 239, 240, 241, 242, 243, 244, 245, 246, 247,\n",
       "       248, 249, 250, 251, 252, 253, 254, 255, 256, 257, 258, 259, 260,\n",
       "       261, 262, 263, 264, 265, 266, 267, 268, 269, 270, 271, 272, 273,\n",
       "       274, 275, 276, 277, 278, 279, 280, 281, 282, 283, 284, 285, 286,\n",
       "       287, 288, 289, 290, 291, 292, 293, 294, 295, 296, 297, 298, 299,\n",
       "       300, 301, 302, 303, 304, 305, 306, 307, 308, 309, 310, 311, 312,\n",
       "       313, 314, 315, 316, 317, 318, 319, 320, 321, 322, 323, 324, 325,\n",
       "       326, 327, 328, 329, 330, 331, 332, 333, 334, 335, 336, 337, 338,\n",
       "       339, 340, 341, 342, 343, 344, 345, 346, 347, 348, 349, 350, 351,\n",
       "       352, 353, 354, 355, 356, 357, 358, 359, 360, 361, 362, 363, 364,\n",
       "       365, 366])"
      ]
     },
     "execution_count": 29,
     "metadata": {},
     "output_type": "execute_result"
    }
   ],
   "source": [
    "days= np.arange(1,367)\n",
    "days"
   ]
  },
  {
   "cell_type": "code",
   "execution_count": 32,
   "id": "b5809f00",
   "metadata": {},
   "outputs": [
    {
     "name": "stdout",
     "output_type": "stream",
     "text": [
      "1\n",
      "3\n",
      "5\n",
      "7\n",
      "9\n",
      "11\n",
      "13\n",
      "15\n",
      "17\n",
      "19\n",
      "21\n",
      "23\n",
      "25\n",
      "27\n",
      "29\n",
      "31\n",
      "33\n",
      "35\n",
      "37\n",
      "39\n",
      "41\n",
      "43\n",
      "45\n",
      "47\n",
      "49\n",
      "51\n",
      "53\n",
      "55\n",
      "57\n",
      "59\n",
      "61\n",
      "63\n",
      "65\n",
      "67\n",
      "69\n",
      "71\n",
      "73\n",
      "75\n",
      "77\n",
      "79\n",
      "81\n",
      "83\n",
      "85\n",
      "87\n",
      "89\n",
      "91\n",
      "93\n",
      "95\n",
      "97\n",
      "99\n"
     ]
    }
   ],
   "source": [
    "import numpy as dy\n",
    "days= dy.arange(1,101)\n",
    "for x in range(1,100,2):\n",
    "    print(x)"
   ]
  },
  {
   "cell_type": "code",
   "execution_count": 34,
   "id": "af7a2c8e",
   "metadata": {},
   "outputs": [
    {
     "data": {
      "text/plain": [
       "array([ 1,  3,  5,  7,  9, 11, 13, 15, 17, 19, 21, 23, 25, 27, 29, 31, 33,\n",
       "       35, 37, 39, 41, 43, 45, 47, 49, 51, 53, 55, 57, 59, 61, 63, 65, 67,\n",
       "       69, 71, 73, 75, 77, 79, 81, 83, 85, 87, 89, 91, 93, 95, 97, 99])"
      ]
     },
     "execution_count": 34,
     "metadata": {},
     "output_type": "execute_result"
    }
   ],
   "source": [
    "days = dy.arange(1,101,2)\n",
    "days"
   ]
  },
  {
   "cell_type": "code",
   "execution_count": 36,
   "id": "0b9c6727",
   "metadata": {},
   "outputs": [
    {
     "name": "stdout",
     "output_type": "stream",
     "text": [
      "1\n",
      "4\n",
      "7\n",
      "10\n",
      "13\n",
      "16\n",
      "19\n",
      "22\n",
      "25\n",
      "28\n",
      "31\n",
      "34\n",
      "37\n",
      "40\n",
      "43\n",
      "46\n",
      "49\n",
      "52\n",
      "55\n",
      "58\n",
      "61\n",
      "64\n",
      "67\n",
      "70\n",
      "73\n",
      "76\n",
      "79\n",
      "82\n",
      "85\n",
      "88\n",
      "91\n",
      "94\n",
      "97\n",
      "100\n"
     ]
    }
   ],
   "source": [
    "import numpy as rt\n",
    "days= rt.arange(1,101)\n",
    "for x in range(1,101,3):\n",
    "    print(x)"
   ]
  },
  {
   "cell_type": "code",
   "execution_count": 39,
   "id": "a64f9b87",
   "metadata": {},
   "outputs": [
    {
     "data": {
      "text/plain": [
       "array([  1,   4,   7,  10,  13,  16,  19,  22,  25,  28,  31,  34,  37,\n",
       "        40,  43,  46,  49,  52,  55,  58,  61,  64,  67,  70,  73,  76,\n",
       "        79,  82,  85,  88,  91,  94,  97, 100])"
      ]
     },
     "execution_count": 39,
     "metadata": {},
     "output_type": "execute_result"
    }
   ],
   "source": [
    "days= rt.arange(1,101,3)\n",
    "days"
   ]
  },
  {
   "cell_type": "markdown",
   "id": "01933a48",
   "metadata": {},
   "source": [
    "# Nested For Loop"
   ]
  },
  {
   "cell_type": "code",
   "execution_count": 41,
   "id": "fa6c5072",
   "metadata": {},
   "outputs": [
    {
     "name": "stdout",
     "output_type": "stream",
     "text": [
      "5 * 1 = 5\n",
      "5 * 2 = 10\n",
      "5 * 3 = 15\n",
      "5 * 4 = 20\n",
      "5 * 5 = 25\n",
      "5 * 6 = 30\n",
      "5 * 7 = 35\n",
      "5 * 8 = 40\n",
      "5 * 9 = 45\n",
      "5 * 10 = 50\n"
     ]
    }
   ],
   "source": [
    "A = [1,2,3,4,5,6,7,8,9,10]\n",
    "B = [5]\n",
    "for a in A:\n",
    "    for b in B:\n",
    "        y = a * b\n",
    "        print(b,'*',a,'=',y)"
   ]
  },
  {
   "cell_type": "code",
   "execution_count": 42,
   "id": "363ff71e",
   "metadata": {},
   "outputs": [
    {
     "name": "stdout",
     "output_type": "stream",
     "text": [
      "5 * 1 = 5\n",
      "5 * 2 = 10\n",
      "5 * 3 = 15\n",
      "5 * 4 = 20\n",
      "5 * 5 = 25\n",
      "5 * 6 = 30\n",
      "5 * 7 = 35\n",
      "5 * 8 = 40\n",
      "5 * 9 = 45\n",
      "5 * 10 = 50\n",
      "5 * 11 = 55\n",
      "5 * 12 = 60\n"
     ]
    }
   ],
   "source": [
    "G = [1,2,3,4,5,6,7,8,9,10,11,12]\n",
    "F = [5]\n",
    "for g in G:\n",
    "    for f in F:\n",
    "        w = g * f\n",
    "        print(f,'*',g,'=',w)"
   ]
  },
  {
   "cell_type": "code",
   "execution_count": 45,
   "id": "a539a720",
   "metadata": {},
   "outputs": [
    {
     "name": "stdout",
     "output_type": "stream",
     "text": [
      "2 + 3 + 1 = 6\n",
      "2 + 3 + 2 = 7\n",
      "2 + 5 + 1 = 8\n",
      "2 + 5 + 2 = 9\n",
      "4 + 3 + 1 = 8\n",
      "4 + 3 + 2 = 9\n",
      "4 + 5 + 1 = 10\n",
      "4 + 5 + 2 = 11\n"
     ]
    }
   ],
   "source": [
    "N = [2,4]\n",
    "M = [3,5]\n",
    "O = [1,2]\n",
    "for n in N:\n",
    "    for m in M:\n",
    "        for o in O:\n",
    "            u = n + m + o\n",
    "            print(n,'+',m,'+',o,'=',u)\n",
    "    "
   ]
  },
  {
   "cell_type": "markdown",
   "id": "63bcac8f",
   "metadata": {},
   "source": [
    "# LOOP CONTROL"
   ]
  },
  {
   "cell_type": "markdown",
   "id": "f1105db3",
   "metadata": {},
   "source": [
    "# Break"
   ]
  },
  {
   "cell_type": "code",
   "execution_count": 51,
   "id": "81cbfcd2",
   "metadata": {},
   "outputs": [
    {
     "name": "stdout",
     "output_type": "stream",
     "text": [
      "john 'found him'\n"
     ]
    }
   ],
   "source": [
    "names = ['john','gideon','prosper','mary']\n",
    "for name in names:\n",
    "    if name == 'john':\n",
    "        print(name,\"'found him'\")\n",
    "        break"
   ]
  },
  {
   "cell_type": "code",
   "execution_count": 57,
   "id": "15c2f2e8",
   "metadata": {},
   "outputs": [
    {
     "name": "stdout",
     "output_type": "stream",
     "text": [
      "state your namejohn\n",
      "intruder\n"
     ]
    }
   ],
   "source": [
    "name= input('state your name')\n",
    "for name in name:\n",
    "    if name == 'john':\n",
    "        print(name,\"'welcome'\")\n",
    "else:\n",
    "    print('intruder')\n",
    "    "
   ]
  },
  {
   "cell_type": "markdown",
   "id": "ad1ce5b2",
   "metadata": {},
   "source": [
    "# Continue"
   ]
  },
  {
   "cell_type": "code",
   "execution_count": 71,
   "id": "923048e0",
   "metadata": {},
   "outputs": [
    {
     "name": "stdout",
     "output_type": "stream",
     "text": [
      "Number is 1\n",
      "Number is 2\n",
      "Number is 3\n",
      "Number is 4\n",
      "add + 1\n",
      "Number is 6\n",
      "Number is 7\n",
      "Number is 8\n",
      "Number is 9\n",
      "Number is 10\n",
      "out of loop\n"
     ]
    }
   ],
   "source": [
    "ctr = 0\n",
    "for ctr in range(10):\n",
    "    ctr = ctr + 1\n",
    "    \n",
    "    if ctr == 5:\n",
    "        print('add + 1')\n",
    "        \n",
    "        continue\n",
    "        print('This wont be printed too')\n",
    "    print('Number is ' + str(ctr))\n",
    "print('out of loop')"
   ]
  },
  {
   "cell_type": "markdown",
   "id": "c6515592",
   "metadata": {},
   "source": [
    "# Pass"
   ]
  },
  {
   "cell_type": "code",
   "execution_count": 72,
   "id": "cbc27ceb",
   "metadata": {},
   "outputs": [],
   "source": [
    "X='kwame'\n",
    "if x=='Ama':\n",
    "    pass"
   ]
  },
  {
   "cell_type": "code",
   "execution_count": 75,
   "id": "8ea9fb21",
   "metadata": {},
   "outputs": [
    {
     "name": "stdout",
     "output_type": "stream",
     "text": [
      "number is  2\n",
      "number is  4\n",
      "number is  6\n",
      "number is  8\n",
      "number is  10\n"
     ]
    }
   ],
   "source": [
    "numbers = [1,2,3,4,5,6,7,8,9,10]\n",
    "for number in numbers:\n",
    "    if number % 2 != 0:\n",
    "        pass\n",
    "    else:\n",
    "        print('number is ',number)"
   ]
  },
  {
   "cell_type": "code",
   "execution_count": 76,
   "id": "4264689c",
   "metadata": {},
   "outputs": [
    {
     "name": "stdout",
     "output_type": "stream",
     "text": [
      "what would you like to have?: salad\n",
      "vitamin\n",
      "what would you like to have?: none\n"
     ]
    }
   ],
   "source": [
    "menu = {'salad': 'vitamin', 'potato': 'carbohydrate', 'chicken': 'protein', 'yoghurt':'mineral'}\n",
    "while True:\n",
    "    menu_choice = input('what would you like to have?: ')\n",
    "    if menu_choice == 'none':\n",
    "        break\n",
    "    if menu_choice in menu:\n",
    "        food = menu.get(menu_choice)\n",
    "        print(food)\n",
    "    else:\n",
    "        print('we don\\'nt have' + menu_choice)"
   ]
  },
  {
   "cell_type": "markdown",
   "id": "dea0a05d",
   "metadata": {},
   "source": [
    "# Functions"
   ]
  },
  {
   "cell_type": "code",
   "execution_count": 77,
   "id": "0948afee",
   "metadata": {},
   "outputs": [],
   "source": [
    "def welcome():\n",
    "    c = 'Hello, welcome to PY4CA'\n",
    "    return c"
   ]
  },
  {
   "cell_type": "code",
   "execution_count": 78,
   "id": "87dfd0f8",
   "metadata": {},
   "outputs": [
    {
     "data": {
      "text/plain": [
       "'Hello, welcome to PY4CA'"
      ]
     },
     "execution_count": 78,
     "metadata": {},
     "output_type": "execute_result"
    }
   ],
   "source": [
    "welcome()"
   ]
  },
  {
   "cell_type": "code",
   "execution_count": 79,
   "id": "80ad0219",
   "metadata": {},
   "outputs": [],
   "source": [
    "def sum_of_numbers(a,b):\n",
    "    c=a+b\n",
    "    return c"
   ]
  },
  {
   "cell_type": "code",
   "execution_count": 83,
   "id": "923996d0",
   "metadata": {},
   "outputs": [],
   "source": [
    "# a and b are called dummy variables"
   ]
  },
  {
   "cell_type": "code",
   "execution_count": 80,
   "id": "c2223e15",
   "metadata": {},
   "outputs": [
    {
     "data": {
      "text/plain": [
       "25"
      ]
     },
     "execution_count": 80,
     "metadata": {},
     "output_type": "execute_result"
    }
   ],
   "source": [
    "sum_of_numbers(20,5)"
   ]
  },
  {
   "cell_type": "code",
   "execution_count": 84,
   "id": "90a4427c",
   "metadata": {},
   "outputs": [
    {
     "data": {
      "text/plain": [
       "8"
      ]
     },
     "execution_count": 84,
     "metadata": {},
     "output_type": "execute_result"
    }
   ],
   "source": [
    "def power(a,b):\n",
    "    i=a**b\n",
    "    return i\n",
    "x = 2\n",
    "y = 3\n",
    "power(x,y)"
   ]
  },
  {
   "cell_type": "code",
   "execution_count": 82,
   "id": "f0542240",
   "metadata": {},
   "outputs": [
    {
     "data": {
      "text/plain": [
       "4"
      ]
     },
     "execution_count": 82,
     "metadata": {},
     "output_type": "execute_result"
    }
   ],
   "source": [
    "power(2,2)"
   ]
  },
  {
   "cell_type": "code",
   "execution_count": 85,
   "id": "035cdebf",
   "metadata": {},
   "outputs": [],
   "source": [
    "def name():\n",
    "    chris = 'how may i help you'\n",
    "    return chris"
   ]
  },
  {
   "cell_type": "code",
   "execution_count": 87,
   "id": "f120c1cd",
   "metadata": {},
   "outputs": [
    {
     "data": {
      "text/plain": [
       "'how may i help you'"
      ]
     },
     "execution_count": 87,
     "metadata": {},
     "output_type": "execute_result"
    }
   ],
   "source": [
    "name()"
   ]
  },
  {
   "cell_type": "code",
   "execution_count": 97,
   "id": "8934601e",
   "metadata": {},
   "outputs": [],
   "source": [
    "def k(a):\n",
    "    q=(a**2) +10\n",
    "    return q"
   ]
  },
  {
   "cell_type": "code",
   "execution_count": 98,
   "id": "636e07dd",
   "metadata": {},
   "outputs": [
    {
     "data": {
      "text/plain": [
       "26"
      ]
     },
     "execution_count": 98,
     "metadata": {},
     "output_type": "execute_result"
    }
   ],
   "source": [
    "k(4)"
   ]
  },
  {
   "cell_type": "code",
   "execution_count": 99,
   "id": "b08ffeb3",
   "metadata": {},
   "outputs": [
    {
     "data": {
      "text/plain": [
       "35"
      ]
     },
     "execution_count": 99,
     "metadata": {},
     "output_type": "execute_result"
    }
   ],
   "source": [
    "k(5)"
   ]
  },
  {
   "cell_type": "code",
   "execution_count": 100,
   "id": "ab8fe188",
   "metadata": {},
   "outputs": [],
   "source": [
    "def potential_temperature(T,P0,P1):\n",
    "    answer=T*(P0/P1)**0.286\n",
    "    return answer"
   ]
  },
  {
   "cell_type": "code",
   "execution_count": 101,
   "id": "c5ad65aa",
   "metadata": {},
   "outputs": [
    {
     "data": {
      "text/plain": [
       "51.12737184220884"
      ]
     },
     "execution_count": 101,
     "metadata": {},
     "output_type": "execute_result"
    }
   ],
   "source": [
    "potential_temperature(50,120,111)"
   ]
  },
  {
   "cell_type": "code",
   "execution_count": 115,
   "id": "3ad0f2bf",
   "metadata": {},
   "outputs": [],
   "source": [
    "def p_temp(T,p0,p1):\n",
    "    P = p0/p1\n",
    "    expo = 0.286\n",
    "    answer = T*P**expo\n",
    "    return answer"
   ]
  },
  {
   "cell_type": "code",
   "execution_count": 116,
   "id": "fd898f69",
   "metadata": {},
   "outputs": [
    {
     "data": {
      "text/plain": [
       "12.54088045194079"
      ]
     },
     "execution_count": 116,
     "metadata": {},
     "output_type": "execute_result"
    }
   ],
   "source": [
    "p_temp(12 ,7 ,6)"
   ]
  },
  {
   "cell_type": "code",
   "execution_count": 121,
   "id": "17d1208a",
   "metadata": {},
   "outputs": [],
   "source": [
    "def potential_temperature(T,P0,P1,units):\n",
    "    if units.upper()=='C' or units.upper()=='CELSIUS':\n",
    "        T=T+273.15\n",
    "        answer=T*(P0/P1)**0.286\n",
    "        answer=answer-273.15\n",
    "    elif units.upper()=='K'or units.upper()=='KELVIN':\n",
    "        answer=T*(P0/P1)**0.286\n",
    "    return answer\n"
   ]
  },
  {
   "cell_type": "code",
   "execution_count": 131,
   "id": "b5bc35e7",
   "metadata": {},
   "outputs": [
    {
     "data": {
      "text/plain": [
       "53.82560059991221"
      ]
     },
     "execution_count": 131,
     "metadata": {},
     "output_type": "execute_result"
    }
   ],
   "source": [
    "potential_temperature(28,1000,750,'c')"
   ]
  },
  {
   "cell_type": "code",
   "execution_count": 133,
   "id": "e88419d0",
   "metadata": {},
   "outputs": [],
   "source": [
    "def p_temp(T,p0,p1,units):\n",
    "    P = p0/p1\n",
    "    expo = 0.286\n",
    "    if units.upper()=='C' or units.upper()=='CELSIUS':\n",
    "        T=T+273.15\n",
    "        answer=T*P**expo\n",
    "        answer=answer-273.15\n",
    "    elif units.upper()=='K' or units.upper()=='KELVIN':\n",
    "        answer=T*P**expo\n",
    "    return answer"
   ]
  },
  {
   "cell_type": "code",
   "execution_count": 134,
   "id": "32cd5d44",
   "metadata": {},
   "outputs": [
    {
     "data": {
      "text/plain": [
       "184.94649282813134"
      ]
     },
     "execution_count": 134,
     "metadata": {},
     "output_type": "execute_result"
    }
   ],
   "source": [
    "p_temp(47,56,16,'c')"
   ]
  },
  {
   "cell_type": "markdown",
   "id": "c7aa9f65",
   "metadata": {},
   "source": [
    "# Looping Within Functions"
   ]
  },
  {
   "cell_type": "code",
   "execution_count": 135,
   "id": "68fcd406",
   "metadata": {},
   "outputs": [],
   "source": [
    "def test(x,max_x,x_interval):\n",
    "    while(x<max_x):\n",
    "        print(x)\n",
    "        x+=x_interval\n",
    "    return x"
   ]
  },
  {
   "cell_type": "code",
   "execution_count": 137,
   "id": "282502c4",
   "metadata": {},
   "outputs": [
    {
     "name": "stdout",
     "output_type": "stream",
     "text": [
      "2\n",
      "4\n",
      "6\n",
      "8\n",
      "10\n",
      "12\n",
      "14\n",
      "16\n",
      "18\n",
      "20\n",
      "22\n",
      "24\n",
      "26\n",
      "28\n",
      "30\n",
      "32\n",
      "34\n",
      "36\n",
      "38\n",
      "40\n",
      "42\n",
      "44\n",
      "46\n",
      "48\n"
     ]
    },
    {
     "data": {
      "text/plain": [
       "50"
      ]
     },
     "execution_count": 137,
     "metadata": {},
     "output_type": "execute_result"
    }
   ],
   "source": [
    "test(2,50,2)"
   ]
  },
  {
   "cell_type": "markdown",
   "id": "32978ff9",
   "metadata": {},
   "source": [
    "# Lambda Expressions"
   ]
  },
  {
   "cell_type": "code",
   "execution_count": 138,
   "id": "e5caba6a",
   "metadata": {},
   "outputs": [
    {
     "data": {
      "text/plain": [
       "100"
      ]
     },
     "execution_count": 138,
     "metadata": {},
     "output_type": "execute_result"
    }
   ],
   "source": [
    "square = lambda x:x**2\n",
    "square(10)"
   ]
  },
  {
   "cell_type": "code",
   "execution_count": 139,
   "id": "0c258746",
   "metadata": {},
   "outputs": [],
   "source": [
    "add = lambda d:d*5+6"
   ]
  },
  {
   "cell_type": "code",
   "execution_count": 140,
   "id": "ced88a7e",
   "metadata": {},
   "outputs": [
    {
     "data": {
      "text/plain": [
       "341"
      ]
     },
     "execution_count": 140,
     "metadata": {},
     "output_type": "execute_result"
    }
   ],
   "source": [
    "add(67)"
   ]
  },
  {
   "cell_type": "code",
   "execution_count": null,
   "id": "5dde6afd",
   "metadata": {},
   "outputs": [],
   "source": []
  }
 ],
 "metadata": {
  "kernelspec": {
   "display_name": "Python 3 (ipykernel)",
   "language": "python",
   "name": "python3"
  },
  "language_info": {
   "codemirror_mode": {
    "name": "ipython",
    "version": 3
   },
   "file_extension": ".py",
   "mimetype": "text/x-python",
   "name": "python",
   "nbconvert_exporter": "python",
   "pygments_lexer": "ipython3",
   "version": "3.9.12"
  }
 },
 "nbformat": 4,
 "nbformat_minor": 5
}
